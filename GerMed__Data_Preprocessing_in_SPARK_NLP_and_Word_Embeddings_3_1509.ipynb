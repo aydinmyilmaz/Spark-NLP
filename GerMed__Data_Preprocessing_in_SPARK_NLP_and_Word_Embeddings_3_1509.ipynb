{
  "nbformat": 4,
  "nbformat_minor": 0,
  "metadata": {
    "colab": {
      "name": "GerMed_ Data Preprocessing in SPARK NLP and Word Embeddings_3_1509.ipynb",
      "provenance": [],
      "collapsed_sections": [],
      "authorship_tag": "ABX9TyOWBeIDAuXTxJrP49McUii2",
      "include_colab_link": true
    },
    "kernelspec": {
      "name": "python3",
      "display_name": "Python 3"
    }
  },
  "cells": [
    {
      "cell_type": "markdown",
      "metadata": {
        "id": "view-in-github",
        "colab_type": "text"
      },
      "source": [
        "<a href=\"https://colab.research.google.com/github/aydinmyilmaz/Spark-NLP/blob/master/GerMed__Data_Preprocessing_in_SPARK_NLP_and_Word_Embeddings_3_1509.ipynb\" target=\"_parent\"><img src=\"https://colab.research.google.com/assets/colab-badge.svg\" alt=\"Open In Colab\"/></a>"
      ]
    },
    {
      "cell_type": "code",
      "metadata": {
        "id": "DbE2n2VRF7db",
        "colab_type": "code",
        "colab": {
          "base_uri": "https://localhost:8080/",
          "height": 136
        },
        "outputId": "2d13398b-7262-40aa-c5fa-83af9ceea482"
      },
      "source": [
        "import os\n",
        "\n",
        "# Install java\n",
        "! apt-get update -qq\n",
        "! apt-get install -y openjdk-8-jdk-headless -qq > /dev/null\n",
        "\n",
        "os.environ[\"JAVA_HOME\"] = \"/usr/lib/jvm/java-8-openjdk-amd64\"\n",
        "os.environ[\"PATH\"] = os.environ[\"JAVA_HOME\"] + \"/bin:\" + os.environ[\"PATH\"]\n",
        "! java -version\n",
        "\n",
        "# Install pyspark\n",
        "! pip install --ignore-installed -q pyspark==2.4.4\n",
        "! pip install --ignore-installed -q spark-nlp==2.6.1"
      ],
      "execution_count": 1,
      "outputs": [
        {
          "output_type": "stream",
          "text": [
            "openjdk version \"1.8.0_265\"\n",
            "OpenJDK Runtime Environment (build 1.8.0_265-8u265-b01-0ubuntu2~18.04-b01)\n",
            "OpenJDK 64-Bit Server VM (build 25.265-b01, mixed mode)\n",
            "\u001b[K     |████████████████████████████████| 215.7MB 61kB/s \n",
            "\u001b[K     |████████████████████████████████| 204kB 19.2MB/s \n",
            "\u001b[?25h  Building wheel for pyspark (setup.py) ... \u001b[?25l\u001b[?25hdone\n",
            "\u001b[K     |████████████████████████████████| 133kB 2.8MB/s \n",
            "\u001b[?25h"
          ],
          "name": "stdout"
        }
      ]
    },
    {
      "cell_type": "code",
      "metadata": {
        "id": "CxpCTIQTGGhU",
        "colab_type": "code",
        "colab": {
          "base_uri": "https://localhost:8080/",
          "height": 51
        },
        "outputId": "dd17108b-70c8-44df-f84c-b71d3dcccd9d"
      },
      "source": [
        "import sparknlp\n",
        "\n",
        "spark = sparknlp.start()\n",
        "\n",
        "print(\"Spark NLP version\", sparknlp.version())\n",
        "\n",
        "print(\"Apache Spark version:\", spark.version)"
      ],
      "execution_count": 2,
      "outputs": [
        {
          "output_type": "stream",
          "text": [
            "Spark NLP version 2.6.1\n",
            "Apache Spark version: 2.4.4\n"
          ],
          "name": "stdout"
        }
      ]
    },
    {
      "cell_type": "code",
      "metadata": {
        "id": "BBIxSKJIuaPR",
        "colab_type": "code",
        "colab": {}
      },
      "source": [
        ""
      ],
      "execution_count": null,
      "outputs": []
    },
    {
      "cell_type": "markdown",
      "metadata": {
        "id": "dhkgmf8J5yMd",
        "colab_type": "text"
      },
      "source": [
        "# 1. SPARK Pipeline for Preprocessing"
      ]
    },
    {
      "cell_type": "code",
      "metadata": {
        "id": "7D7ZbSBPHOJK",
        "colab_type": "code",
        "colab": {
          "base_uri": "https://localhost:8080/",
          "height": 119
        },
        "outputId": "39244589-cd17-4790-c9f0-3e38a0ed3d5f"
      },
      "source": [
        "from sparknlp.base import *\n",
        "from sparknlp.annotator import *\n",
        "from pyspark.ml import Pipeline\n",
        "\n",
        "documentAssembler = DocumentAssembler()\\\n",
        "    .setInputCol(\"text\")\\\n",
        "    .setOutputCol(\"document\")\n",
        "\n",
        "sentenceDetector = SentenceDetector().\\\n",
        "    setInputCols(['document']).\\\n",
        "    setOutputCol('sentences')\n",
        "\n",
        "tokenizer = Tokenizer() \\\n",
        "    .setInputCols(['sentences']) \\\n",
        "    .setOutputCol(\"token\")\n",
        "\n",
        "pattern='^.*(?=.{8,})(?=.*[a-zA-ZäöüÄÖÜß])(?=.*\\d).*$'\n",
        "pattern2 = '''[~!@#$^%&*\\\\(\\\\)_+={}\\\\[\\\\]|;:\\\"'<,>.?`/\\\\\\\\–[0-9]]'''\n",
        "#pattern2 = '!\"#$%&\\'()*+,-./:;<=>?@[\\\\]^_`{|}~'\n",
        "normalizer = Normalizer() \\\n",
        "    .setInputCols([\"token\"]) \\\n",
        "    .setOutputCol(\"norma\")\\\n",
        "    .setLowercase(False)\\\n",
        "    .setCleanupPatterns([pattern,pattern2])\n",
        "\n",
        "stopwords_cleaner = StopWordsCleaner.pretrained(name='stopwords_de', lang='de')\\\n",
        "      .setInputCols(\"norma\")\\\n",
        "      .setOutputCol(\"cleanTokens\")\\\n",
        "      .setCaseSensitive(False)\n",
        "\n",
        "lemmatizer = LemmatizerModel.pretrained(name='lemma', lang='de') \\\n",
        "    .setInputCols([\"cleanTokens\"]) \\\n",
        "    .setOutputCol(\"lemma\") \\\n",
        "\n",
        "tokenassembler = TokenAssembler()\\\n",
        "    .setInputCols([\"sentences\", \"lemma\"]) \\\n",
        "    .setOutputCol(\"clean_text\")\n",
        "\n",
        "\n",
        "pipeline = Pipeline(\n",
        "    stages = [documentAssembler,\n",
        "              sentenceDetector,\n",
        "              tokenizer,\n",
        "              normalizer,\n",
        "              stopwords_cleaner,\n",
        "              lemmatizer,\n",
        "              tokenassembler\n",
        "            ])\n",
        "\n",
        "\n",
        "empty_df = spark.createDataFrame([['']]).toDF(\"text\")\n",
        "\n",
        "pipelineModel = pipeline.fit(empty_df)"
      ],
      "execution_count": 5,
      "outputs": [
        {
          "output_type": "stream",
          "text": [
            "stopwords_de download started this may take some time.\n",
            "Approximate size to download 2.9 KB\n",
            "[OK!]\n",
            "lemma download started this may take some time.\n",
            "Approximate size to download 4 MB\n",
            "[OK!]\n"
          ],
          "name": "stdout"
        }
      ]
    },
    {
      "cell_type": "code",
      "metadata": {
        "id": "GArVV9VDSoHI",
        "colab_type": "code",
        "colab": {}
      },
      "source": [
        ""
      ],
      "execution_count": null,
      "outputs": []
    },
    {
      "cell_type": "markdown",
      "metadata": {
        "id": "XqNhKBGfSojS",
        "colab_type": "text"
      },
      "source": [
        "### 1.2.Short Pipeline"
      ]
    },
    {
      "cell_type": "code",
      "metadata": {
        "id": "9OCTeLPBKPuF",
        "colab_type": "code",
        "colab": {}
      },
      "source": [
        "# without lemma and stopwords cleaning\n",
        "\n",
        "documentAssembler = DocumentAssembler()\\\n",
        "    .setInputCol(\"text\")\\\n",
        "    .setOutputCol(\"document\")\n",
        "\n",
        "sentenceDetector = SentenceDetector().\\\n",
        "    setInputCols(['document']).\\\n",
        "    setOutputCol('sentences')\n",
        "\n",
        "tokenizer = Tokenizer() \\\n",
        "    .setInputCols(['sentences']) \\\n",
        "    .setOutputCol(\"token\")\n",
        "\n",
        "pattern='^.*(?=.{8,})(?=.*[a-zA-ZäöüÄÖÜß])(?=.*\\d).*$'\n",
        "pattern2 = '''[~!@#$^%&*\\\\(\\\\)_+={}\\\\[\\\\]|;:\\\"'<,>.?`/\\\\\\\\–[0-9]]'''\n",
        "#pattern2 = '!\"#$%&\\'()*+,-./:;<=>?@[\\\\]^_`{|}~'\n",
        "normalizer = Normalizer() \\\n",
        "    .setInputCols([\"token\"]) \\\n",
        "    .setOutputCol(\"norma\")\\\n",
        "    .setLowercase(False)\\\n",
        "    .setCleanupPatterns([pattern,pattern2])\n",
        "\n",
        "tokenassembler = TokenAssembler()\\\n",
        "    .setInputCols([\"sentences\", \"norma\"]) \\\n",
        "    .setOutputCol(\"clean_text\")\n",
        "\n",
        "\n",
        "pipeline = Pipeline(\n",
        "    stages = [documentAssembler,\n",
        "              sentenceDetector,\n",
        "              tokenizer,\n",
        "              normalizer,\n",
        "              tokenassembler\n",
        "            ])\n",
        "\n",
        "\n",
        "empty_df = spark.createDataFrame([['']]).toDF(\"text\")\n",
        "\n",
        "pipelineModel_2 = pipeline.fit(empty_df)"
      ],
      "execution_count": 88,
      "outputs": []
    },
    {
      "cell_type": "code",
      "metadata": {
        "id": "Jze-BaYB5439",
        "colab_type": "code",
        "colab": {}
      },
      "source": [
        ""
      ],
      "execution_count": null,
      "outputs": []
    },
    {
      "cell_type": "markdown",
      "metadata": {
        "id": "HbIDWBvT55M_",
        "colab_type": "text"
      },
      "source": [
        "# 2. Pdf-->Text Data Preprocessing"
      ]
    },
    {
      "cell_type": "code",
      "metadata": {
        "id": "tf4PG3af5mN8",
        "colab_type": "code",
        "colab": {
          "resources": {
            "http://localhost:8080/nbextensions/google.colab/files.js": {
              "data": "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",
              "ok": true,
              "headers": [
                [
                  "content-type",
                  "application/javascript"
                ]
              ],
              "status": 200,
              "status_text": ""
            }
          },
          "base_uri": "https://localhost:8080/",
          "height": 72
        },
        "outputId": "70642906-554f-423b-9e7e-64daec010898"
      },
      "source": [
        "from google.colab import files\n",
        "uploaded = files.upload()"
      ],
      "execution_count": 113,
      "outputs": [
        {
          "output_type": "display_data",
          "data": {
            "text/html": [
              "\n",
              "     <input type=\"file\" id=\"files-c76d2543-fd0a-4a9b-91d7-f014c0cf9fa8\" name=\"files[]\" multiple disabled\n",
              "        style=\"border:none\" />\n",
              "     <output id=\"result-c76d2543-fd0a-4a9b-91d7-f014c0cf9fa8\">\n",
              "      Upload widget is only available when the cell has been executed in the\n",
              "      current browser session. Please rerun this cell to enable.\n",
              "      </output>\n",
              "      <script src=\"/nbextensions/google.colab/files.js\"></script> "
            ],
            "text/plain": [
              "<IPython.core.display.HTML object>"
            ]
          },
          "metadata": {
            "tags": []
          }
        },
        {
          "output_type": "stream",
          "text": [
            "Saving ordered_txt_12.txt to ordered_txt_12.txt\n"
          ],
          "name": "stdout"
        }
      ]
    },
    {
      "cell_type": "code",
      "metadata": {
        "id": "rxLoLM4r5nFX",
        "colab_type": "code",
        "colab": {
          "base_uri": "https://localhost:8080/",
          "height": 136
        },
        "outputId": "178afcbb-c24b-4c7f-f92e-c3a7676ce4dc"
      },
      "source": [
        "spark_df = spark.read.text('./ordered_txt_12.txt').toDF('text')\n",
        "\n",
        "spark_df.show(10)"
      ],
      "execution_count": 114,
      "outputs": [
        {
          "output_type": "stream",
          "text": [
            "+--------------------+\n",
            "|                text|\n",
            "+--------------------+\n",
            "|Eine 45-jährige R...|\n",
            "|.Ein 20-jähriger ...|\n",
            "+--------------------+\n",
            "\n"
          ],
          "name": "stdout"
        }
      ]
    },
    {
      "cell_type": "code",
      "metadata": {
        "id": "fqA4svZg6tDy",
        "colab_type": "code",
        "colab": {}
      },
      "source": [
        ""
      ],
      "execution_count": null,
      "outputs": []
    },
    {
      "cell_type": "markdown",
      "metadata": {
        "id": "IxEvqD8k6vTZ",
        "colab_type": "text"
      },
      "source": [
        "2.1. Transform spark_df to pipeline"
      ]
    },
    {
      "cell_type": "code",
      "metadata": {
        "id": "amrfVs5E5wjd",
        "colab_type": "code",
        "colab": {
          "base_uri": "https://localhost:8080/",
          "height": 156
        },
        "outputId": "dcba1795-6338-4523-fac4-3dd68f04026f"
      },
      "source": [
        "result = pipelineModel_2.transform(spark_df)\n",
        "result.show(truncate=100)"
      ],
      "execution_count": 115,
      "outputs": [
        {
          "output_type": "stream",
          "text": [
            "+----------------------------------------------------------------------------------------------------+----------------------------------------------------------------------------------------------------+----------------------------------------------------------------------------------------------------+----------------------------------------------------------------------------------------------------+----------------------------------------------------------------------------------------------------+----------------------------------------------------------------------------------------------------+\n",
            "|                                                                                                text|                                                                                            document|                                                                                           sentences|                                                                                               token|                                                                                               norma|                                                                                          clean_text|\n",
            "+----------------------------------------------------------------------------------------------------+----------------------------------------------------------------------------------------------------+----------------------------------------------------------------------------------------------------+----------------------------------------------------------------------------------------------------+----------------------------------------------------------------------------------------------------+----------------------------------------------------------------------------------------------------+\n",
            "|Eine 45-jährige Richterin wird notärztlich eingewiesen, da sie nach dem Mittagessen plötzlich sta...|[[document, 0, 2524904, Eine 45-jährige Richterin wird notärztlich eingewiesen, da sie nach dem M...|[[document, 0, 236, Eine 45-jährige Richterin wird notärztlich eingewiesen, da sie nach dem Mitta...|[[token, 0, 3, Eine, [sentence -> 0], []], [token, 5, 14, 45-jährige, [sentence -> 0], []], [toke...|[[token, 0, 3, Eine, [sentence -> 0], []], [token, 16, 24, Richterin, [sentence -> 0], []], [toke...|[[document, 0, 222, Eine Richterin wird notärztlich eingewiesen da sie nach dem Mittagessen plötz...|\n",
            "|.Ein 20-jähriger Mann arbeitet als Maurer auf dem Bau und ist beim Besteigen eines Gerüsts abgeru...|[[document, 0, 2025992, .Ein 20-jähriger Mann arbeitet als Maurer auf dem Bau und ist beim Bestei...|[[document, 0, 0, ., [sentence -> 0], []], [document, 1, 198, Ein 20-jähriger Mann arbeitet als M...|[[token, 0, 0, ., [sentence -> 0], []], [token, 1, 3, Ein, [sentence -> 1], []], [token, 5, 15, 2...|[[token, 1, 3, Ein, [sentence -> 1], []], [token, 17, 20, Mann, [sentence -> 1], []], [token, 22,...|[[document, 0, -1, , [sentence -> 0], []], [document, 1, 182, Ein Mann arbeitet als Maurer auf de...|\n",
            "+----------------------------------------------------------------------------------------------------+----------------------------------------------------------------------------------------------------+----------------------------------------------------------------------------------------------------+----------------------------------------------------------------------------------------------------+----------------------------------------------------------------------------------------------------+----------------------------------------------------------------------------------------------------+\n",
            "\n"
          ],
          "name": "stdout"
        }
      ]
    },
    {
      "cell_type": "code",
      "metadata": {
        "id": "7Iful9PUsl0e",
        "colab_type": "code",
        "colab": {
          "base_uri": "https://localhost:8080/",
          "height": 1000
        },
        "outputId": "1cd0c694-7551-4e02-8644-d134b15d11fb"
      },
      "source": [
        "result.printSchema()"
      ],
      "execution_count": 117,
      "outputs": [
        {
          "output_type": "stream",
          "text": [
            "root\n",
            " |-- text: string (nullable = true)\n",
            " |-- document: array (nullable = true)\n",
            " |    |-- element: struct (containsNull = true)\n",
            " |    |    |-- annotatorType: string (nullable = true)\n",
            " |    |    |-- begin: integer (nullable = false)\n",
            " |    |    |-- end: integer (nullable = false)\n",
            " |    |    |-- result: string (nullable = true)\n",
            " |    |    |-- metadata: map (nullable = true)\n",
            " |    |    |    |-- key: string\n",
            " |    |    |    |-- value: string (valueContainsNull = true)\n",
            " |    |    |-- embeddings: array (nullable = true)\n",
            " |    |    |    |-- element: float (containsNull = false)\n",
            " |-- sentences: array (nullable = true)\n",
            " |    |-- element: struct (containsNull = true)\n",
            " |    |    |-- annotatorType: string (nullable = true)\n",
            " |    |    |-- begin: integer (nullable = false)\n",
            " |    |    |-- end: integer (nullable = false)\n",
            " |    |    |-- result: string (nullable = true)\n",
            " |    |    |-- metadata: map (nullable = true)\n",
            " |    |    |    |-- key: string\n",
            " |    |    |    |-- value: string (valueContainsNull = true)\n",
            " |    |    |-- embeddings: array (nullable = true)\n",
            " |    |    |    |-- element: float (containsNull = false)\n",
            " |-- token: array (nullable = true)\n",
            " |    |-- element: struct (containsNull = true)\n",
            " |    |    |-- annotatorType: string (nullable = true)\n",
            " |    |    |-- begin: integer (nullable = false)\n",
            " |    |    |-- end: integer (nullable = false)\n",
            " |    |    |-- result: string (nullable = true)\n",
            " |    |    |-- metadata: map (nullable = true)\n",
            " |    |    |    |-- key: string\n",
            " |    |    |    |-- value: string (valueContainsNull = true)\n",
            " |    |    |-- embeddings: array (nullable = true)\n",
            " |    |    |    |-- element: float (containsNull = false)\n",
            " |-- norma: array (nullable = true)\n",
            " |    |-- element: struct (containsNull = true)\n",
            " |    |    |-- annotatorType: string (nullable = true)\n",
            " |    |    |-- begin: integer (nullable = false)\n",
            " |    |    |-- end: integer (nullable = false)\n",
            " |    |    |-- result: string (nullable = true)\n",
            " |    |    |-- metadata: map (nullable = true)\n",
            " |    |    |    |-- key: string\n",
            " |    |    |    |-- value: string (valueContainsNull = true)\n",
            " |    |    |-- embeddings: array (nullable = true)\n",
            " |    |    |    |-- element: float (containsNull = false)\n",
            " |-- clean_text: array (nullable = true)\n",
            " |    |-- element: struct (containsNull = true)\n",
            " |    |    |-- annotatorType: string (nullable = true)\n",
            " |    |    |-- begin: integer (nullable = false)\n",
            " |    |    |-- end: integer (nullable = false)\n",
            " |    |    |-- result: string (nullable = true)\n",
            " |    |    |-- metadata: map (nullable = true)\n",
            " |    |    |    |-- key: string\n",
            " |    |    |    |-- value: string (valueContainsNull = true)\n",
            " |    |    |-- embeddings: array (nullable = true)\n",
            " |    |    |    |-- element: float (containsNull = false)\n",
            "\n"
          ],
          "name": "stdout"
        }
      ]
    },
    {
      "cell_type": "code",
      "metadata": {
        "id": "z_8fmBNc6-71",
        "colab_type": "code",
        "colab": {
          "base_uri": "https://localhost:8080/",
          "height": 204
        },
        "outputId": "b8a98512-81a9-49db-cb04-727419b41548"
      },
      "source": [
        "\n",
        "import pyspark.sql.functions as F\n",
        "\n",
        "pandas_df = result.withColumn(\n",
        "    \"tmp\", \n",
        "    F.explode(\"clean_text\")) \\\n",
        "    .select(\"tmp.*\").select(\"begin\",\"end\",\"result\",\"metadata.sentence\").toPandas()\n",
        "pandas_df.head()"
      ],
      "execution_count": 118,
      "outputs": [
        {
          "output_type": "execute_result",
          "data": {
            "text/html": [
              "<div>\n",
              "<style scoped>\n",
              "    .dataframe tbody tr th:only-of-type {\n",
              "        vertical-align: middle;\n",
              "    }\n",
              "\n",
              "    .dataframe tbody tr th {\n",
              "        vertical-align: top;\n",
              "    }\n",
              "\n",
              "    .dataframe thead th {\n",
              "        text-align: right;\n",
              "    }\n",
              "</style>\n",
              "<table border=\"1\" class=\"dataframe\">\n",
              "  <thead>\n",
              "    <tr style=\"text-align: right;\">\n",
              "      <th></th>\n",
              "      <th>begin</th>\n",
              "      <th>end</th>\n",
              "      <th>result</th>\n",
              "      <th>sentence</th>\n",
              "    </tr>\n",
              "  </thead>\n",
              "  <tbody>\n",
              "    <tr>\n",
              "      <th>0</th>\n",
              "      <td>0</td>\n",
              "      <td>222</td>\n",
              "      <td>Eine Richterin wird notärztlich eingewiesen da...</td>\n",
              "      <td>0</td>\n",
              "    </tr>\n",
              "    <tr>\n",
              "      <th>1</th>\n",
              "      <td>238</td>\n",
              "      <td>334</td>\n",
              "      <td>Noch im Flur muss sich die Patientin bei anhal...</td>\n",
              "      <td>1</td>\n",
              "    </tr>\n",
              "    <tr>\n",
              "      <th>2</th>\n",
              "      <td>337</td>\n",
              "      <td>382</td>\n",
              "      <td>Wesentliche Vorerkrankungen sind nicht bekannt</td>\n",
              "      <td>2</td>\n",
              "    </tr>\n",
              "    <tr>\n",
              "      <th>3</th>\n",
              "      <td>385</td>\n",
              "      <td>438</td>\n",
              "      <td>Ein regelmäßiger Alkoholkonsum wird glaubhaft ...</td>\n",
              "      <td>3</td>\n",
              "    </tr>\n",
              "    <tr>\n",
              "      <th>4</th>\n",
              "      <td>442</td>\n",
              "      <td>555</td>\n",
              "      <td>In der Jugend sei eine Appendektomie Frau in s...</td>\n",
              "      <td>4</td>\n",
              "    </tr>\n",
              "  </tbody>\n",
              "</table>\n",
              "</div>"
            ],
            "text/plain": [
              "   begin  end                                             result sentence\n",
              "0      0  222  Eine Richterin wird notärztlich eingewiesen da...        0\n",
              "1    238  334  Noch im Flur muss sich die Patientin bei anhal...        1\n",
              "2    337  382     Wesentliche Vorerkrankungen sind nicht bekannt        2\n",
              "3    385  438  Ein regelmäßiger Alkoholkonsum wird glaubhaft ...        3\n",
              "4    442  555  In der Jugend sei eine Appendektomie Frau in s...        4"
            ]
          },
          "metadata": {
            "tags": []
          },
          "execution_count": 118
        }
      ]
    },
    {
      "cell_type": "code",
      "metadata": {
        "id": "9g20icxInD0-",
        "colab_type": "code",
        "colab": {
          "base_uri": "https://localhost:8080/",
          "height": 204
        },
        "outputId": "3740e2e8-5ab3-4fe6-c96e-5964902bf404"
      },
      "source": [
        "pandas_df.info()"
      ],
      "execution_count": 119,
      "outputs": [
        {
          "output_type": "stream",
          "text": [
            "<class 'pandas.core.frame.DataFrame'>\n",
            "RangeIndex: 33640 entries, 0 to 33639\n",
            "Data columns (total 4 columns):\n",
            " #   Column    Non-Null Count  Dtype \n",
            "---  ------    --------------  ----- \n",
            " 0   begin     33640 non-null  int32 \n",
            " 1   end       33640 non-null  int32 \n",
            " 2   result    33640 non-null  object\n",
            " 3   sentence  33640 non-null  object\n",
            "dtypes: int32(2), object(2)\n",
            "memory usage: 788.6+ KB\n"
          ],
          "name": "stdout"
        }
      ]
    },
    {
      "cell_type": "code",
      "metadata": {
        "id": "E9iUNUhg_p0n",
        "colab_type": "code",
        "colab": {}
      },
      "source": [
        "sent_df = pandas_df"
      ],
      "execution_count": 120,
      "outputs": []
    },
    {
      "cell_type": "code",
      "metadata": {
        "id": "UIMfQH1PAYAS",
        "colab_type": "code",
        "colab": {
          "base_uri": "https://localhost:8080/",
          "height": 204
        },
        "outputId": "7af8b538-3ea7-478e-9abd-07dad655ad45"
      },
      "source": [
        "sent_df['lang'] = sent_df.apply(lambda x : (int(x['end']))-(int(x['begin'])),axis=1) \n",
        "sent_df['word_num'] = sent_df.result.apply(lambda x : len(x.split()))\n",
        "sent_df['word_list'] = sent_df.result.apply(lambda x : x.split())\n",
        "sent_df = sent_df[sent_df.word_num>3]\n",
        "\n",
        "sent_df.head() "
      ],
      "execution_count": 121,
      "outputs": [
        {
          "output_type": "execute_result",
          "data": {
            "text/html": [
              "<div>\n",
              "<style scoped>\n",
              "    .dataframe tbody tr th:only-of-type {\n",
              "        vertical-align: middle;\n",
              "    }\n",
              "\n",
              "    .dataframe tbody tr th {\n",
              "        vertical-align: top;\n",
              "    }\n",
              "\n",
              "    .dataframe thead th {\n",
              "        text-align: right;\n",
              "    }\n",
              "</style>\n",
              "<table border=\"1\" class=\"dataframe\">\n",
              "  <thead>\n",
              "    <tr style=\"text-align: right;\">\n",
              "      <th></th>\n",
              "      <th>begin</th>\n",
              "      <th>end</th>\n",
              "      <th>result</th>\n",
              "      <th>sentence</th>\n",
              "      <th>lang</th>\n",
              "      <th>word_num</th>\n",
              "      <th>word_list</th>\n",
              "    </tr>\n",
              "  </thead>\n",
              "  <tbody>\n",
              "    <tr>\n",
              "      <th>0</th>\n",
              "      <td>0</td>\n",
              "      <td>222</td>\n",
              "      <td>Eine Richterin wird notärztlich eingewiesen da...</td>\n",
              "      <td>0</td>\n",
              "      <td>222</td>\n",
              "      <td>31</td>\n",
              "      <td>[Eine, Richterin, wird, notärztlich, eingewies...</td>\n",
              "    </tr>\n",
              "    <tr>\n",
              "      <th>1</th>\n",
              "      <td>238</td>\n",
              "      <td>334</td>\n",
              "      <td>Noch im Flur muss sich die Patientin bei anhal...</td>\n",
              "      <td>1</td>\n",
              "      <td>96</td>\n",
              "      <td>16</td>\n",
              "      <td>[Noch, im, Flur, muss, sich, die, Patientin, b...</td>\n",
              "    </tr>\n",
              "    <tr>\n",
              "      <th>2</th>\n",
              "      <td>337</td>\n",
              "      <td>382</td>\n",
              "      <td>Wesentliche Vorerkrankungen sind nicht bekannt</td>\n",
              "      <td>2</td>\n",
              "      <td>45</td>\n",
              "      <td>5</td>\n",
              "      <td>[Wesentliche, Vorerkrankungen, sind, nicht, be...</td>\n",
              "    </tr>\n",
              "    <tr>\n",
              "      <th>3</th>\n",
              "      <td>385</td>\n",
              "      <td>438</td>\n",
              "      <td>Ein regelmäßiger Alkoholkonsum wird glaubhaft ...</td>\n",
              "      <td>3</td>\n",
              "      <td>53</td>\n",
              "      <td>6</td>\n",
              "      <td>[Ein, regelmäßiger, Alkoholkonsum, wird, glaub...</td>\n",
              "    </tr>\n",
              "    <tr>\n",
              "      <th>4</th>\n",
              "      <td>442</td>\n",
              "      <td>555</td>\n",
              "      <td>In der Jugend sei eine Appendektomie Frau in s...</td>\n",
              "      <td>4</td>\n",
              "      <td>113</td>\n",
              "      <td>18</td>\n",
              "      <td>[In, der, Jugend, sei, eine, Appendektomie, Fr...</td>\n",
              "    </tr>\n",
              "  </tbody>\n",
              "</table>\n",
              "</div>"
            ],
            "text/plain": [
              "   begin  end  ... word_num                                          word_list\n",
              "0      0  222  ...       31  [Eine, Richterin, wird, notärztlich, eingewies...\n",
              "1    238  334  ...       16  [Noch, im, Flur, muss, sich, die, Patientin, b...\n",
              "2    337  382  ...        5  [Wesentliche, Vorerkrankungen, sind, nicht, be...\n",
              "3    385  438  ...        6  [Ein, regelmäßiger, Alkoholkonsum, wird, glaub...\n",
              "4    442  555  ...       18  [In, der, Jugend, sei, eine, Appendektomie, Fr...\n",
              "\n",
              "[5 rows x 7 columns]"
            ]
          },
          "metadata": {
            "tags": []
          },
          "execution_count": 121
        }
      ]
    },
    {
      "cell_type": "code",
      "metadata": {
        "id": "veums1GOxW_0",
        "colab_type": "code",
        "colab": {
          "base_uri": "https://localhost:8080/",
          "height": 1000
        },
        "outputId": "6919ab2f-8126-434f-a0eb-ef24e2ec4d63"
      },
      "source": [
        "sent_corpus_1 = sent_df.word_list.tolist()\n",
        "sent_corpus_1[0:5]"
      ],
      "execution_count": 122,
      "outputs": [
        {
          "output_type": "execute_result",
          "data": {
            "text/plain": [
              "[['Eine',\n",
              "  'Richterin',\n",
              "  'wird',\n",
              "  'notärztlich',\n",
              "  'eingewiesen',\n",
              "  'da',\n",
              "  'sie',\n",
              "  'nach',\n",
              "  'dem',\n",
              "  'Mittagessen',\n",
              "  'plötzlich',\n",
              "  'starke',\n",
              "  'Bauchschmerzen',\n",
              "  'verspürt',\n",
              "  'habe',\n",
              "  'die',\n",
              "  'zunächst',\n",
              "  'gürtelförmig',\n",
              "  'bis',\n",
              "  'in',\n",
              "  'den',\n",
              "  'Rücken',\n",
              "  'und',\n",
              "  'dann',\n",
              "  'diffus',\n",
              "  'in',\n",
              "  'den',\n",
              "  'gesamten',\n",
              "  'Oberbauch',\n",
              "  'ausgestrahlt',\n",
              "  'hätten'],\n",
              " ['Noch',\n",
              "  'im',\n",
              "  'Flur',\n",
              "  'muss',\n",
              "  'sich',\n",
              "  'die',\n",
              "  'Patientin',\n",
              "  'bei',\n",
              "  'anhaltender',\n",
              "  'Übelkeit',\n",
              "  'nun',\n",
              "  'schon',\n",
              "  'zum',\n",
              "  'dritten',\n",
              "  'Mal',\n",
              "  'erbrechen'],\n",
              " ['Wesentliche', 'Vorerkrankungen', 'sind', 'nicht', 'bekannt'],\n",
              " ['Ein', 'regelmäßiger', 'Alkoholkonsum', 'wird', 'glaubhaft', 'verneint'],\n",
              " ['In',\n",
              "  'der',\n",
              "  'Jugend',\n",
              "  'sei',\n",
              "  'eine',\n",
              "  'Appendektomie',\n",
              "  'Frau',\n",
              "  'in',\n",
              "  'schmerzbedingt',\n",
              "  'reduziertem',\n",
              "  'AZ',\n",
              "  'und',\n",
              "  'leicht',\n",
              "  'übergewichtigem',\n",
              "  'EZ',\n",
              "  'cm',\n",
              "  'kg',\n",
              "  'BMI']]"
            ]
          },
          "metadata": {
            "tags": []
          },
          "execution_count": 122
        }
      ]
    },
    {
      "cell_type": "code",
      "metadata": {
        "id": "Ce9KwypuyKXG",
        "colab_type": "code",
        "colab": {
          "base_uri": "https://localhost:8080/",
          "height": 34
        },
        "outputId": "6f4cf8aa-fb9b-474a-9e8c-f374dd896d60"
      },
      "source": [
        "len(sent_corpus_1)"
      ],
      "execution_count": 123,
      "outputs": [
        {
          "output_type": "execute_result",
          "data": {
            "text/plain": [
              "28116"
            ]
          },
          "metadata": {
            "tags": []
          },
          "execution_count": 123
        }
      ]
    },
    {
      "cell_type": "markdown",
      "metadata": {
        "id": "uOdpHiPbsk95",
        "colab_type": "text"
      },
      "source": [
        "#  3.Med1_Data_Preprocessing"
      ]
    },
    {
      "cell_type": "code",
      "metadata": {
        "id": "3VqpEZEUspCu",
        "colab_type": "code",
        "colab": {
          "resources": {
            "http://localhost:8080/nbextensions/google.colab/files.js": {
              "data": "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",
              "ok": true,
              "headers": [
                [
                  "content-type",
                  "application/javascript"
                ]
              ],
              "status": 200,
              "status_text": ""
            }
          },
          "base_uri": "https://localhost:8080/",
          "height": 72
        },
        "outputId": "92a664a7-83fb-496b-cd77-27370ef01e1e"
      },
      "source": [
        "from google.colab import files\n",
        "uploaded = files.upload()"
      ],
      "execution_count": 6,
      "outputs": [
        {
          "output_type": "display_data",
          "data": {
            "text/html": [
              "\n",
              "     <input type=\"file\" id=\"files-526c58ac-eb6c-4584-8067-a511f3732274\" name=\"files[]\" multiple disabled\n",
              "        style=\"border:none\" />\n",
              "     <output id=\"result-526c58ac-eb6c-4584-8067-a511f3732274\">\n",
              "      Upload widget is only available when the cell has been executed in the\n",
              "      current browser session. Please rerun this cell to enable.\n",
              "      </output>\n",
              "      <script src=\"/nbextensions/google.colab/files.js\"></script> "
            ],
            "text/plain": [
              "<IPython.core.display.HTML object>"
            ]
          },
          "metadata": {
            "tags": []
          }
        },
        {
          "output_type": "stream",
          "text": [
            "Saving all_ger_med_text.txt to all_ger_med_text.txt\n"
          ],
          "name": "stdout"
        }
      ]
    },
    {
      "cell_type": "code",
      "metadata": {
        "id": "86wAJ9xkubcg",
        "colab_type": "code",
        "colab": {
          "base_uri": "https://localhost:8080/",
          "height": 289
        },
        "outputId": "b6ae69de-7888-46f6-888d-c973b9261f2b"
      },
      "source": [
        "spark_df_2 = spark.read.text('./all_ger_med_text.txt').toDF('text')\n",
        "\n",
        "spark_df_2.show(10)"
      ],
      "execution_count": 9,
      "outputs": [
        {
          "output_type": "stream",
          "text": [
            "+--------------------+\n",
            "|                text|\n",
            "+--------------------+\n",
            "|Wäre zu schön, we...|\n",
            "|Unabhängig davon ...|\n",
            "|uuund.. ist es WI...|\n",
            "|Löwenzahnsalat so...|\n",
            "|Bewundere Dich no...|\n",
            "|Ganz unabhängig d...|\n",
            "|Wollte mich dann ...|\n",
            "|Diese Eiweißaussc...|\n",
            "|Ich werde jetzt d...|\n",
            "|Was ich bemerkt h...|\n",
            "+--------------------+\n",
            "only showing top 10 rows\n",
            "\n"
          ],
          "name": "stdout"
        }
      ]
    },
    {
      "cell_type": "code",
      "metadata": {
        "id": "o5Ll_CT8uePm",
        "colab_type": "code",
        "colab": {
          "base_uri": "https://localhost:8080/",
          "height": 479
        },
        "outputId": "ec4b7474-9379-4e40-9af7-0525cf8b0604"
      },
      "source": [
        "result_2 = pipelineModel_2.transform(spark_df_2)\n",
        "result_2.show(truncate=100)"
      ],
      "execution_count": 89,
      "outputs": [
        {
          "output_type": "stream",
          "text": [
            "+----------------------------------------------------------------------------------------------------+----------------------------------------------------------------------------------------------------+----------------------------------------------------------------------------------------------------+----------------------------------------------------------------------------------------------------+----------------------------------------------------------------------------------------------------+----------------------------------------------------------------------------------------------------+\n",
            "|                                                                                                text|                                                                                            document|                                                                                           sentences|                                                                                               token|                                                                                               norma|                                                                                          clean_text|\n",
            "+----------------------------------------------------------------------------------------------------+----------------------------------------------------------------------------------------------------+----------------------------------------------------------------------------------------------------+----------------------------------------------------------------------------------------------------+----------------------------------------------------------------------------------------------------+----------------------------------------------------------------------------------------------------+\n",
            "|Wäre zu schön, wenn es da keine Probleme gegeben hätte – die Vollidioten haben dabei die Blutvers...|[[document, 0, 221, Wäre zu schön, wenn es da keine Probleme gegeben hätte – die Vollidioten habe...|[[document, 0, 221, Wäre zu schön, wenn es da keine Probleme gegeben hätte – die Vollidioten habe...|[[token, 0, 3, Wäre, [sentence -> 0], []], [token, 5, 6, zu, [sentence -> 0], []], [token, 8, 12,...|[[token, 0, 3, Wäre, [sentence -> 0], []], [token, 5, 6, zu, [sentence -> 0], []], [token, 8, 12,...|[[document, 0, 214, Wäre zu schön wenn es da keine Probleme gegeben hätte die Vollidioten haben d...|\n",
            "|Unabhängig davon würde ich das aber mit den Nieren abklären lassen. Erst recht, wenn die Essstöru...|[[document, 0, 231, Unabhängig davon würde ich das aber mit den Nieren abklären lassen. Erst rech...|[[document, 0, 66, Unabhängig davon würde ich das aber mit den Nieren abklären lassen., [sentence...|[[token, 0, 9, Unabhängig, [sentence -> 0], []], [token, 11, 15, davon, [sentence -> 0], []], [to...|[[token, 0, 9, Unabhängig, [sentence -> 0], []], [token, 11, 15, davon, [sentence -> 0], []], [to...|[[document, 0, 65, Unabhängig davon würde ich das aber mit den Nieren abklären lassen, [sentence ...|\n",
            "|uuund.. ist es WIRLKICH Puls 200 oder war das nur so eine Umschreibung für \"wirklich schnellen Pu...|[[document, 0, 435, uuund.. ist es WIRLKICH Puls 200 oder war das nur so eine Umschreibung für \"w...|[[document, 0, 5, uuund., [sentence -> 0], []], [document, 6, 6, ., [sentence -> 1], []], [docume...|[[token, 0, 4, uuund, [sentence -> 0], []], [token, 5, 5, ., [sentence -> 0], []], [token, 6, 6, ...|[[token, 0, 4, uuund, [sentence -> 0], []], [token, 8, 10, ist, [sentence -> 2], []], [token, 12,...|[[document, 0, 4, uuund, [sentence -> 0], []], [document, 6, 5, , [sentence -> 1], []], [document...|\n",
            "|Löwenzahnsalat sollte die Nierenleistung verbessern können...heißt auch piss es lit (Bettpisser) ...|[[document, 0, 464, Löwenzahnsalat sollte die Nierenleistung verbessern können...heißt auch piss ...|[[document, 0, 58, Löwenzahnsalat sollte die Nierenleistung verbessern können., [sentence -> 0], ...|[[token, 0, 13, Löwenzahnsalat, [sentence -> 0], []], [token, 15, 20, sollte, [sentence -> 0], []...|[[token, 0, 13, Löwenzahnsalat, [sentence -> 0], []], [token, 15, 20, sollte, [sentence -> 0], []...|[[document, 0, 57, Löwenzahnsalat sollte die Nierenleistung verbessern können, [sentence -> 0], [...|\n",
            "|Bewundere Dich noch mehr! Davon mache ich höchstens die Hälfte! Bin zwar auch noch glgtl. im Büro...|[[document, 0, 289, Bewundere Dich noch mehr! Davon mache ich höchstens die Hälfte! Bin zwar auch...|[[document, 0, 24, Bewundere Dich noch mehr!, [sentence -> 0], []], [document, 26, 62, Davon mach...|[[token, 0, 8, Bewundere, [sentence -> 0], []], [token, 10, 13, Dich, [sentence -> 0], []], [toke...|[[token, 0, 8, Bewundere, [sentence -> 0], []], [token, 10, 13, Dich, [sentence -> 0], []], [toke...|[[document, 0, 23, Bewundere Dich noch mehr, [sentence -> 0], []], [document, 26, 61, Davon mache...|\n",
            "|Ganz unabhängig davon zu den Werten: bei den neuen Werten ist ja keine GFR dabei, die ja viel gen...|[[document, 0, 213, Ganz unabhängig davon zu den Werten: bei den neuen Werten ist ja keine GFR da...|[[document, 0, 123, Ganz unabhängig davon zu den Werten: bei den neuen Werten ist ja keine GFR da...|[[token, 0, 3, Ganz, [sentence -> 0], []], [token, 5, 14, unabhängig, [sentence -> 0], []], [toke...|[[token, 0, 3, Ganz, [sentence -> 0], []], [token, 5, 14, unabhängig, [sentence -> 0], []], [toke...|[[document, 0, 120, Ganz unabhängig davon zu den Werten bei den neuen Werten ist ja keine GFR dab...|\n",
            "|Wollte mich dann mal schlau machen, hab mit meinem HA gesprochen, verschiedene Webseiten gelesen ...|[[document, 0, 269, Wollte mich dann mal schlau machen, hab mit meinem HA gesprochen, verschieden...|[[document, 0, 269, Wollte mich dann mal schlau machen, hab mit meinem HA gesprochen, verschieden...|[[token, 0, 5, Wollte, [sentence -> 0], []], [token, 7, 10, mich, [sentence -> 0], []], [token, 1...|[[token, 0, 5, Wollte, [sentence -> 0], []], [token, 7, 10, mich, [sentence -> 0], []], [token, 1...|[[document, 0, 263, Wollte mich dann mal schlau machen hab mit meinem HA gesprochen verschiedene ...|\n",
            "|Diese Eiweißausscheidung wurde 1998 gemessen. D.h. wenn damals tatsächlich etwas übersehen wurde,...|[[document, 0, 427, Diese Eiweißausscheidung wurde 1998 gemessen. D.h. wenn damals tatsächlich et...|[[document, 0, 44, Diese Eiweißausscheidung wurde 1998 gemessen., [sentence -> 0], []], [document...|[[token, 0, 4, Diese, [sentence -> 0], []], [token, 6, 23, Eiweißausscheidung, [sentence -> 0], [...|[[token, 0, 4, Diese, [sentence -> 0], []], [token, 6, 23, Eiweißausscheidung, [sentence -> 0], [...|[[document, 0, 38, Diese Eiweißausscheidung wurde gemessen, [sentence -> 0], []], [document, 46, ...|\n",
            "|Ich werde jetzt darauf verzichten mich in medizinischen Ergüssen zu erklären oder auf Punkte eing...|[[document, 0, 223, Ich werde jetzt darauf verzichten mich in medizinischen Ergüssen zu erklären ...|[[document, 0, 223, Ich werde jetzt darauf verzichten mich in medizinischen Ergüssen zu erklären ...|[[token, 0, 2, Ich, [sentence -> 0], []], [token, 4, 8, werde, [sentence -> 0], []], [token, 10, ...|[[token, 0, 2, Ich, [sentence -> 0], []], [token, 4, 8, werde, [sentence -> 0], []], [token, 10, ...|[[document, 0, 219, Ich werde jetzt darauf verzichten mich in medizinischen Ergüssen zu erklären ...|\n",
            "|Was ich bemerkt habe und was mich etwas in Panik versetzt: wenn ich getrunken habe verspüre ich e...|[[document, 0, 473, Was ich bemerkt habe und was mich etwas in Panik versetzt: wenn ich getrunken...|[[document, 0, 158, Was ich bemerkt habe und was mich etwas in Panik versetzt: wenn ich getrunken...|[[token, 0, 2, Was, [sentence -> 0], []], [token, 4, 6, ich, [sentence -> 0], []], [token, 8, 14,...|[[token, 0, 2, Was, [sentence -> 0], []], [token, 4, 6, ich, [sentence -> 0], []], [token, 8, 14,...|[[document, 0, 150, Was ich bemerkt habe und was mich etwas in Panik versetzt wenn ich getrunken ...|\n",
            "|Und bitte fühle dich nicht angegriffen von mir. So ist mein Beitrag wahrlich nicht gemeint. Ich f...|[[document, 0, 251, Und bitte fühle dich nicht angegriffen von mir. So ist mein Beitrag wahrlich ...|[[document, 0, 46, Und bitte fühle dich nicht angegriffen von mir., [sentence -> 0], []], [docume...|[[token, 0, 2, Und, [sentence -> 0], []], [token, 4, 8, bitte, [sentence -> 0], []], [token, 10, ...|[[token, 0, 2, Und, [sentence -> 0], []], [token, 4, 8, bitte, [sentence -> 0], []], [token, 10, ...|[[document, 0, 45, Und bitte fühle dich nicht angegriffen von mir, [sentence -> 0], []], [documen...|\n",
            "|...ich hatte nun den dritten Rückfall und war ab dem 23.11. wieder krank geschrieben. Nachdem ich...|[[document, 0, 615, ...ich hatte nun den dritten Rückfall und war ab dem 23.11. wieder krank gesc...|[[document, 0, 0, ., [sentence -> 0], []], [document, 1, 1, ., [sentence -> 1], []], [document, 2...|[[token, 0, 0, ., [sentence -> 0], []], [token, 1, 1, ., [sentence -> 1], []], [token, 2, 2, ., [...|[[token, 3, 5, ich, [sentence -> 3], []], [token, 7, 11, hatte, [sentence -> 3], []], [token, 13,...|[[document, 0, -1, , [sentence -> 0], []], [document, 1, 0, , [sentence -> 1], []], [document, 2,...|\n",
            "|Ein nicht behandelter Harnwegsinfekt kann unter Umständen – vor allem bei Harnstau – zur Niere ho...|[[document, 0, 285, Ein nicht behandelter Harnwegsinfekt kann unter Umständen – vor allem bei Har...|[[document, 0, 183, Ein nicht behandelter Harnwegsinfekt kann unter Umständen – vor allem bei Har...|[[token, 0, 2, Ein, [sentence -> 0], []], [token, 4, 8, nicht, [sentence -> 0], []], [token, 10, ...|[[token, 0, 2, Ein, [sentence -> 0], []], [token, 4, 8, nicht, [sentence -> 0], []], [token, 10, ...|[[document, 0, 177, Ein nicht behandelter Harnwegsinfekt kann unter Umständen vor allem bei Harns...|\n",
            "|Naja, nun muss ich nächste woche Freitag zum Kardiologen, am 29.03. zum Nephrologen und am 31.03....|[[document, 0, 278, Naja, nun muss ich nächste woche Freitag zum Kardiologen, am 29.03. zum Nephr...|[[document, 0, 66, Naja, nun muss ich nächste woche Freitag zum Kardiologen, am 29.03., [sentence...|[[token, 0, 3, Naja, [sentence -> 0], []], [token, 4, 4, ,, [sentence -> 0], []], [token, 6, 8, n...|[[token, 0, 3, Naja, [sentence -> 0], []], [token, 6, 8, nun, [sentence -> 0], []], [token, 10, 1...|[[document, 0, 57, Naja nun muss ich nächste woche Freitag zum Kardiologen am, [sentence -> 0], [...|\n",
            "|Es wundert mich doch sehr, dass das Krankenhauslabor überhaupt diese Angabe <90 macht. Für die le...|[[document, 0, 314, Es wundert mich doch sehr, dass das Krankenhauslabor überhaupt diese Angabe <...|[[document, 0, 85, Es wundert mich doch sehr, dass das Krankenhauslabor überhaupt diese Angabe <9...|[[token, 0, 1, Es, [sentence -> 0], []], [token, 3, 9, wundert, [sentence -> 0], []], [token, 11,...|[[token, 0, 1, Es, [sentence -> 0], []], [token, 3, 9, wundert, [sentence -> 0], []], [token, 11,...|[[document, 0, 79, Es wundert mich doch sehr dass das Krankenhauslabor überhaupt diese Angabe mac...|\n",
            "|Mein Opa ist von Hausaus schwierig in Sachen KH, er hatte vor 7 Jahren einen Schlaganfall, weil e...|[[document, 0, 226, Mein Opa ist von Hausaus schwierig in Sachen KH, er hatte vor 7 Jahren einen ...|[[document, 0, 172, Mein Opa ist von Hausaus schwierig in Sachen KH, er hatte vor 7 Jahren einen ...|[[token, 0, 3, Mein, [sentence -> 0], []], [token, 5, 7, Opa, [sentence -> 0], []], [token, 9, 11...|[[token, 0, 3, Mein, [sentence -> 0], []], [token, 5, 7, Opa, [sentence -> 0], []], [token, 9, 11...|[[document, 0, 164, Mein Opa ist von Hausaus schwierig in Sachen KH er hatte vor Jahren einen Sch...|\n",
            "|Sie kann durch Land tingeln und ihre Erfahrungen vortragen und jedem von der Organspende abraten,...|[[document, 0, 596, Sie kann durch Land tingeln und ihre Erfahrungen vortragen und jedem von der ...|[[document, 0, 117, Sie kann durch Land tingeln und ihre Erfahrungen vortragen und jedem von der ...|[[token, 0, 2, Sie, [sentence -> 0], []], [token, 4, 7, kann, [sentence -> 0], []], [token, 9, 13...|[[token, 0, 2, Sie, [sentence -> 0], []], [token, 4, 7, kann, [sentence -> 0], []], [token, 9, 13...|[[document, 0, 115, Sie kann durch Land tingeln und ihre Erfahrungen vortragen und jedem von der ...|\n",
            "|Wenn bei einem Hirntod wirklich der Körper Tod wäre, bzw. das Hirn nichts mehr verarbeitet, warum...|[[document, 0, 241, Wenn bei einem Hirntod wirklich der Körper Tod wäre, bzw. das Hirn nichts meh...|[[document, 0, 56, Wenn bei einem Hirntod wirklich der Körper Tod wäre, bzw., [sentence -> 0], []...|[[token, 0, 3, Wenn, [sentence -> 0], []], [token, 5, 7, bei, [sentence -> 0], []], [token, 9, 13...|[[token, 0, 3, Wenn, [sentence -> 0], []], [token, 5, 7, bei, [sentence -> 0], []], [token, 9, 13...|[[document, 0, 54, Wenn bei einem Hirntod wirklich der Körper Tod wäre bzw, [sentence -> 0], []],...|\n",
            "|Zwischenzeitlich war ich noch beim Lunge Röntgen, meine Hausärztin wollte eine versteckte Lungene...|[[document, 0, 216, Zwischenzeitlich war ich noch beim Lunge Röntgen, meine Hausärztin wollte ein...|[[document, 0, 179, Zwischenzeitlich war ich noch beim Lunge Röntgen, meine Hausärztin wollte ein...|[[token, 0, 15, Zwischenzeitlich, [sentence -> 0], []], [token, 17, 19, war, [sentence -> 0], []]...|[[token, 0, 15, Zwischenzeitlich, [sentence -> 0], []], [token, 17, 19, war, [sentence -> 0], []]...|[[document, 0, 173, Zwischenzeitlich war ich noch beim Lunge Röntgen meine Hausärztin wollte eine...|\n",
            "|Ich fuhr den tag der blutabnahme nach ungelogen 3j mit dem bike zum arzt samt kind u sturm. Ich w...|[[document, 0, 287, Ich fuhr den tag der blutabnahme nach ungelogen 3j mit dem bike zum arzt samt...|[[document, 0, 90, Ich fuhr den tag der blutabnahme nach ungelogen 3j mit dem bike zum arzt samt ...|[[token, 0, 2, Ich, [sentence -> 0], []], [token, 4, 7, fuhr, [sentence -> 0], []], [token, 9, 11...|[[token, 0, 2, Ich, [sentence -> 0], []], [token, 4, 7, fuhr, [sentence -> 0], []], [token, 9, 11...|[[document, 0, 88, Ich fuhr den tag der blutabnahme nach ungelogen j mit dem bike zum arzt samt k...|\n",
            "+----------------------------------------------------------------------------------------------------+----------------------------------------------------------------------------------------------------+----------------------------------------------------------------------------------------------------+----------------------------------------------------------------------------------------------------+----------------------------------------------------------------------------------------------------+----------------------------------------------------------------------------------------------------+\n",
            "only showing top 20 rows\n",
            "\n"
          ],
          "name": "stdout"
        }
      ]
    },
    {
      "cell_type": "code",
      "metadata": {
        "id": "pxHjB3TSutQO",
        "colab_type": "code",
        "colab": {
          "base_uri": "https://localhost:8080/",
          "height": 204
        },
        "outputId": "af75e124-11d2-4d78-dde2-77b1ea5fc96c"
      },
      "source": [
        "import pyspark.sql.functions as F\n",
        "\n",
        "pandasDf_2= result_2.withColumn(\n",
        "    \"tmp\", \n",
        "    F.explode(\"clean_text\")) \\\n",
        "    .select(\"tmp.*\").select(\"begin\",\"end\",\"result\",\"metadata.sentence\").toPandas()\n",
        "pandasDf_2.head()"
      ],
      "execution_count": 91,
      "outputs": [
        {
          "output_type": "execute_result",
          "data": {
            "text/html": [
              "<div>\n",
              "<style scoped>\n",
              "    .dataframe tbody tr th:only-of-type {\n",
              "        vertical-align: middle;\n",
              "    }\n",
              "\n",
              "    .dataframe tbody tr th {\n",
              "        vertical-align: top;\n",
              "    }\n",
              "\n",
              "    .dataframe thead th {\n",
              "        text-align: right;\n",
              "    }\n",
              "</style>\n",
              "<table border=\"1\" class=\"dataframe\">\n",
              "  <thead>\n",
              "    <tr style=\"text-align: right;\">\n",
              "      <th></th>\n",
              "      <th>begin</th>\n",
              "      <th>end</th>\n",
              "      <th>result</th>\n",
              "      <th>sentence</th>\n",
              "    </tr>\n",
              "  </thead>\n",
              "  <tbody>\n",
              "    <tr>\n",
              "      <th>0</th>\n",
              "      <td>0</td>\n",
              "      <td>214</td>\n",
              "      <td>Wäre zu schön wenn es da keine Probleme gegebe...</td>\n",
              "      <td>0</td>\n",
              "    </tr>\n",
              "    <tr>\n",
              "      <th>1</th>\n",
              "      <td>0</td>\n",
              "      <td>65</td>\n",
              "      <td>Unabhängig davon würde ich das aber mit den Ni...</td>\n",
              "      <td>0</td>\n",
              "    </tr>\n",
              "    <tr>\n",
              "      <th>2</th>\n",
              "      <td>68</td>\n",
              "      <td>224</td>\n",
              "      <td>Erst recht wenn die Essstörung seit der Behand...</td>\n",
              "      <td>1</td>\n",
              "    </tr>\n",
              "    <tr>\n",
              "      <th>3</th>\n",
              "      <td>0</td>\n",
              "      <td>4</td>\n",
              "      <td>uuund</td>\n",
              "      <td>0</td>\n",
              "    </tr>\n",
              "    <tr>\n",
              "      <th>4</th>\n",
              "      <td>6</td>\n",
              "      <td>5</td>\n",
              "      <td></td>\n",
              "      <td>1</td>\n",
              "    </tr>\n",
              "  </tbody>\n",
              "</table>\n",
              "</div>"
            ],
            "text/plain": [
              "   begin  end                                             result sentence\n",
              "0      0  214  Wäre zu schön wenn es da keine Probleme gegebe...        0\n",
              "1      0   65  Unabhängig davon würde ich das aber mit den Ni...        0\n",
              "2     68  224  Erst recht wenn die Essstörung seit der Behand...        1\n",
              "3      0    4                                              uuund        0\n",
              "4      6    5                                                           1"
            ]
          },
          "metadata": {
            "tags": []
          },
          "execution_count": 91
        }
      ]
    },
    {
      "cell_type": "code",
      "metadata": {
        "id": "Fof9aG962_nj",
        "colab_type": "code",
        "colab": {}
      },
      "source": [
        "sent_df_2 = pandasDf_2"
      ],
      "execution_count": 92,
      "outputs": []
    },
    {
      "cell_type": "code",
      "metadata": {
        "id": "CFNfKAU_wbAc",
        "colab_type": "code",
        "colab": {
          "base_uri": "https://localhost:8080/",
          "height": 204
        },
        "outputId": "82899f40-ebd1-4d8a-d8f5-7193b0572b2b"
      },
      "source": [
        "sent_df_2['lang'] = sent_df_2.apply(lambda x : (int(x['end']))-(int(x['begin'])),axis=1) \n",
        "sent_df_2['word_num'] = sent_df_2.result.apply(lambda x : len(x.split()))\n",
        "sent_df_2['word_list'] = sent_df_2.result.apply(lambda x : x.split())\n",
        "sent_df_2 = sent_df_2[sent_df_2.word_num>3]\n",
        "\n",
        "sent_df_2.head() "
      ],
      "execution_count": 93,
      "outputs": [
        {
          "output_type": "execute_result",
          "data": {
            "text/html": [
              "<div>\n",
              "<style scoped>\n",
              "    .dataframe tbody tr th:only-of-type {\n",
              "        vertical-align: middle;\n",
              "    }\n",
              "\n",
              "    .dataframe tbody tr th {\n",
              "        vertical-align: top;\n",
              "    }\n",
              "\n",
              "    .dataframe thead th {\n",
              "        text-align: right;\n",
              "    }\n",
              "</style>\n",
              "<table border=\"1\" class=\"dataframe\">\n",
              "  <thead>\n",
              "    <tr style=\"text-align: right;\">\n",
              "      <th></th>\n",
              "      <th>begin</th>\n",
              "      <th>end</th>\n",
              "      <th>result</th>\n",
              "      <th>sentence</th>\n",
              "      <th>lang</th>\n",
              "      <th>word_num</th>\n",
              "      <th>word_list</th>\n",
              "    </tr>\n",
              "  </thead>\n",
              "  <tbody>\n",
              "    <tr>\n",
              "      <th>0</th>\n",
              "      <td>0</td>\n",
              "      <td>214</td>\n",
              "      <td>Wäre zu schön wenn es da keine Probleme gegebe...</td>\n",
              "      <td>0</td>\n",
              "      <td>214</td>\n",
              "      <td>34</td>\n",
              "      <td>[Wäre, zu, schön, wenn, es, da, keine, Problem...</td>\n",
              "    </tr>\n",
              "    <tr>\n",
              "      <th>1</th>\n",
              "      <td>0</td>\n",
              "      <td>65</td>\n",
              "      <td>Unabhängig davon würde ich das aber mit den Ni...</td>\n",
              "      <td>0</td>\n",
              "      <td>65</td>\n",
              "      <td>11</td>\n",
              "      <td>[Unabhängig, davon, würde, ich, das, aber, mit...</td>\n",
              "    </tr>\n",
              "    <tr>\n",
              "      <th>2</th>\n",
              "      <td>68</td>\n",
              "      <td>224</td>\n",
              "      <td>Erst recht wenn die Essstörung seit der Behand...</td>\n",
              "      <td>1</td>\n",
              "      <td>156</td>\n",
              "      <td>22</td>\n",
              "      <td>[Erst, recht, wenn, die, Essstörung, seit, der...</td>\n",
              "    </tr>\n",
              "    <tr>\n",
              "      <th>5</th>\n",
              "      <td>8</td>\n",
              "      <td>93</td>\n",
              "      <td>ist es WIRLKICH Puls oder war das nur so eine ...</td>\n",
              "      <td>2</td>\n",
              "      <td>85</td>\n",
              "      <td>15</td>\n",
              "      <td>[ist, es, WIRLKICH, Puls, oder, war, das, nur,...</td>\n",
              "    </tr>\n",
              "    <tr>\n",
              "      <th>6</th>\n",
              "      <td>102</td>\n",
              "      <td>198</td>\n",
              "      <td>Wenns doch eher nur - war dann rückt Psyche sc...</td>\n",
              "      <td>3</td>\n",
              "      <td>96</td>\n",
              "      <td>17</td>\n",
              "      <td>[Wenns, doch, eher, nur, -, war, dann, rückt, ...</td>\n",
              "    </tr>\n",
              "  </tbody>\n",
              "</table>\n",
              "</div>"
            ],
            "text/plain": [
              "   begin  end  ... word_num                                          word_list\n",
              "0      0  214  ...       34  [Wäre, zu, schön, wenn, es, da, keine, Problem...\n",
              "1      0   65  ...       11  [Unabhängig, davon, würde, ich, das, aber, mit...\n",
              "2     68  224  ...       22  [Erst, recht, wenn, die, Essstörung, seit, der...\n",
              "5      8   93  ...       15  [ist, es, WIRLKICH, Puls, oder, war, das, nur,...\n",
              "6    102  198  ...       17  [Wenns, doch, eher, nur, -, war, dann, rückt, ...\n",
              "\n",
              "[5 rows x 7 columns]"
            ]
          },
          "metadata": {
            "tags": []
          },
          "execution_count": 93
        }
      ]
    },
    {
      "cell_type": "code",
      "metadata": {
        "id": "zV6K8rcPyog6",
        "colab_type": "code",
        "colab": {
          "base_uri": "https://localhost:8080/",
          "height": 359
        },
        "outputId": "585803af-612c-40ca-bf5d-3e44a8d7267c"
      },
      "source": [
        "sent_df_2.sample(10)"
      ],
      "execution_count": 94,
      "outputs": [
        {
          "output_type": "execute_result",
          "data": {
            "text/html": [
              "<div>\n",
              "<style scoped>\n",
              "    .dataframe tbody tr th:only-of-type {\n",
              "        vertical-align: middle;\n",
              "    }\n",
              "\n",
              "    .dataframe tbody tr th {\n",
              "        vertical-align: top;\n",
              "    }\n",
              "\n",
              "    .dataframe thead th {\n",
              "        text-align: right;\n",
              "    }\n",
              "</style>\n",
              "<table border=\"1\" class=\"dataframe\">\n",
              "  <thead>\n",
              "    <tr style=\"text-align: right;\">\n",
              "      <th></th>\n",
              "      <th>begin</th>\n",
              "      <th>end</th>\n",
              "      <th>result</th>\n",
              "      <th>sentence</th>\n",
              "      <th>lang</th>\n",
              "      <th>word_num</th>\n",
              "      <th>word_list</th>\n",
              "    </tr>\n",
              "  </thead>\n",
              "  <tbody>\n",
              "    <tr>\n",
              "      <th>129431</th>\n",
              "      <td>534</td>\n",
              "      <td>594</td>\n",
              "      <td>Leider verfällt dieses tolle ereignis nach ein...</td>\n",
              "      <td>6</td>\n",
              "      <td>60</td>\n",
              "      <td>8</td>\n",
              "      <td>[Leider, verfällt, dieses, tolle, ereignis, na...</td>\n",
              "    </tr>\n",
              "    <tr>\n",
              "      <th>76223</th>\n",
              "      <td>177</td>\n",
              "      <td>276</td>\n",
              "      <td>Wenn auch ein zweiter oder dritter Wert gut au...</td>\n",
              "      <td>2</td>\n",
              "      <td>99</td>\n",
              "      <td>16</td>\n",
              "      <td>[Wenn, auch, ein, zweiter, oder, dritter, Wert...</td>\n",
              "    </tr>\n",
              "    <tr>\n",
              "      <th>154694</th>\n",
              "      <td>481</td>\n",
              "      <td>578</td>\n",
              "      <td>Oft war es auch der Wochenanfang weil ich fast...</td>\n",
              "      <td>5</td>\n",
              "      <td>97</td>\n",
              "      <td>17</td>\n",
              "      <td>[Oft, war, es, auch, der, Wochenanfang, weil, ...</td>\n",
              "    </tr>\n",
              "    <tr>\n",
              "      <th>231236</th>\n",
              "      <td>0</td>\n",
              "      <td>159</td>\n",
              "      <td>Nun frage ich mich aber ob so eine Steissbeinf...</td>\n",
              "      <td>0</td>\n",
              "      <td>159</td>\n",
              "      <td>28</td>\n",
              "      <td>[Nun, frage, ich, mich, aber, ob, so, eine, St...</td>\n",
              "    </tr>\n",
              "    <tr>\n",
              "      <th>84888</th>\n",
              "      <td>74</td>\n",
              "      <td>107</td>\n",
              "      <td>das merkt man dann schon denke ich</td>\n",
              "      <td>3</td>\n",
              "      <td>33</td>\n",
              "      <td>7</td>\n",
              "      <td>[das, merkt, man, dann, schon, denke, ich]</td>\n",
              "    </tr>\n",
              "    <tr>\n",
              "      <th>138526</th>\n",
              "      <td>0</td>\n",
              "      <td>84</td>\n",
              "      <td>Meine Ärztin meinte ich könnte eine Woche wart...</td>\n",
              "      <td>0</td>\n",
              "      <td>84</td>\n",
              "      <td>13</td>\n",
              "      <td>[Meine, Ärztin, meinte, ich, könnte, eine, Woc...</td>\n",
              "    </tr>\n",
              "    <tr>\n",
              "      <th>61001</th>\n",
              "      <td>54</td>\n",
              "      <td>217</td>\n",
              "      <td>Heute war ich zB in der Berufsschulpause im Mc...</td>\n",
              "      <td>1</td>\n",
              "      <td>163</td>\n",
              "      <td>27</td>\n",
              "      <td>[Heute, war, ich, zB, in, der, Berufsschulpaus...</td>\n",
              "    </tr>\n",
              "    <tr>\n",
              "      <th>262547</th>\n",
              "      <td>803</td>\n",
              "      <td>883</td>\n",
              "      <td>Vielleicht sprecht ihr mal mit euren Ärzten we...</td>\n",
              "      <td>11</td>\n",
              "      <td>80</td>\n",
              "      <td>13</td>\n",
              "      <td>[Vielleicht, sprecht, ihr, mal, mit, euren, Är...</td>\n",
              "    </tr>\n",
              "    <tr>\n",
              "      <th>27239</th>\n",
              "      <td>114</td>\n",
              "      <td>130</td>\n",
              "      <td>Es gibt dann evtl</td>\n",
              "      <td>2</td>\n",
              "      <td>16</td>\n",
              "      <td>4</td>\n",
              "      <td>[Es, gibt, dann, evtl]</td>\n",
              "    </tr>\n",
              "    <tr>\n",
              "      <th>127427</th>\n",
              "      <td>0</td>\n",
              "      <td>138</td>\n",
              "      <td>Die Bandage nennt sich Handgelenkriemen mit Da...</td>\n",
              "      <td>0</td>\n",
              "      <td>138</td>\n",
              "      <td>18</td>\n",
              "      <td>[Die, Bandage, nennt, sich, Handgelenkriemen, ...</td>\n",
              "    </tr>\n",
              "  </tbody>\n",
              "</table>\n",
              "</div>"
            ],
            "text/plain": [
              "        begin  end  ... word_num                                          word_list\n",
              "129431    534  594  ...        8  [Leider, verfällt, dieses, tolle, ereignis, na...\n",
              "76223     177  276  ...       16  [Wenn, auch, ein, zweiter, oder, dritter, Wert...\n",
              "154694    481  578  ...       17  [Oft, war, es, auch, der, Wochenanfang, weil, ...\n",
              "231236      0  159  ...       28  [Nun, frage, ich, mich, aber, ob, so, eine, St...\n",
              "84888      74  107  ...        7         [das, merkt, man, dann, schon, denke, ich]\n",
              "138526      0   84  ...       13  [Meine, Ärztin, meinte, ich, könnte, eine, Woc...\n",
              "61001      54  217  ...       27  [Heute, war, ich, zB, in, der, Berufsschulpaus...\n",
              "262547    803  883  ...       13  [Vielleicht, sprecht, ihr, mal, mit, euren, Är...\n",
              "27239     114  130  ...        4                             [Es, gibt, dann, evtl]\n",
              "127427      0  138  ...       18  [Die, Bandage, nennt, sich, Handgelenkriemen, ...\n",
              "\n",
              "[10 rows x 7 columns]"
            ]
          },
          "metadata": {
            "tags": []
          },
          "execution_count": 94
        }
      ]
    },
    {
      "cell_type": "code",
      "metadata": {
        "id": "iaLdNCjLy3sU",
        "colab_type": "code",
        "colab": {
          "base_uri": "https://localhost:8080/",
          "height": 34
        },
        "outputId": "d7870e9a-747f-4ae7-c434-52a948b20c7c"
      },
      "source": [
        "sent_corpus_2 = sent_df_2.word_list.tolist()\n",
        "#print(sent_corpus[100])\n",
        "len(sent_corpus_2)"
      ],
      "execution_count": 95,
      "outputs": [
        {
          "output_type": "execute_result",
          "data": {
            "text/plain": [
              "235925"
            ]
          },
          "metadata": {
            "tags": []
          },
          "execution_count": 95
        }
      ]
    },
    {
      "cell_type": "code",
      "metadata": {
        "id": "ylR-yQvHzLy-",
        "colab_type": "code",
        "colab": {
          "base_uri": "https://localhost:8080/",
          "height": 1000
        },
        "outputId": "bcf25907-ef92-4068-cf5f-a71704e973cd"
      },
      "source": [
        "sent_corpus_2[0:10]"
      ],
      "execution_count": 96,
      "outputs": [
        {
          "output_type": "execute_result",
          "data": {
            "text/plain": [
              "[['Wäre',\n",
              "  'zu',\n",
              "  'schön',\n",
              "  'wenn',\n",
              "  'es',\n",
              "  'da',\n",
              "  'keine',\n",
              "  'Probleme',\n",
              "  'gegeben',\n",
              "  'hätte',\n",
              "  'die',\n",
              "  'Vollidioten',\n",
              "  'haben',\n",
              "  'dabei',\n",
              "  'die',\n",
              "  'Blutversorgung',\n",
              "  'der',\n",
              "  'neuen',\n",
              "  'Niere',\n",
              "  'verletzt',\n",
              "  'und',\n",
              "  'die',\n",
              "  'Niere',\n",
              "  'war',\n",
              "  'fast',\n",
              "  'Stunden',\n",
              "  'unversorgt',\n",
              "  'weil',\n",
              "  'man',\n",
              "  'auf',\n",
              "  'einen',\n",
              "  'Gefäßchirurgen',\n",
              "  'warten',\n",
              "  'musste'],\n",
              " ['Unabhängig',\n",
              "  'davon',\n",
              "  'würde',\n",
              "  'ich',\n",
              "  'das',\n",
              "  'aber',\n",
              "  'mit',\n",
              "  'den',\n",
              "  'Nieren',\n",
              "  'abklären',\n",
              "  'lassen'],\n",
              " ['Erst',\n",
              "  'recht',\n",
              "  'wenn',\n",
              "  'die',\n",
              "  'Essstörung',\n",
              "  'seit',\n",
              "  'der',\n",
              "  'Behandlung',\n",
              "  'nicht',\n",
              "  'komplett',\n",
              "  'weg',\n",
              "  'ist',\n",
              "  'und',\n",
              "  'sich',\n",
              "  'weiterhin',\n",
              "  'in',\n",
              "  'deiner',\n",
              "  'Ernährung',\n",
              "  'und',\n",
              "  'Flüssigkeitszufuhr',\n",
              "  'niederschlagen',\n",
              "  'sollte'],\n",
              " ['ist',\n",
              "  'es',\n",
              "  'WIRLKICH',\n",
              "  'Puls',\n",
              "  'oder',\n",
              "  'war',\n",
              "  'das',\n",
              "  'nur',\n",
              "  'so',\n",
              "  'eine',\n",
              "  'Umschreibung',\n",
              "  'für',\n",
              "  'wirklich',\n",
              "  'schnellen',\n",
              "  'Puls'],\n",
              " ['Wenns',\n",
              "  'doch',\n",
              "  'eher',\n",
              "  'nur',\n",
              "  '-',\n",
              "  'war',\n",
              "  'dann',\n",
              "  'rückt',\n",
              "  'Psyche',\n",
              "  'schon',\n",
              "  'eher',\n",
              "  'wieder',\n",
              "  'in',\n",
              "  'den',\n",
              "  'Bereich',\n",
              "  'des',\n",
              "  'Wahrscheinlichen'],\n",
              " ['Aber',\n",
              "  'so',\n",
              "  'ein',\n",
              "  'typischer',\n",
              "  'Panikattacken-Puls',\n",
              "  'ist',\n",
              "  'halt',\n",
              "  'eher',\n",
              "  'und',\n",
              "  'nicht'],\n",
              " ['Eigentlich',\n",
              "  'wird',\n",
              "  'ausser',\n",
              "  'vielleicht',\n",
              "  'bei',\n",
              "  'Profi-Fahrradrennen',\n",
              "  'Puls',\n",
              "  'nie',\n",
              "  'erreicht',\n",
              "  'ohne',\n",
              "  'krankhaften',\n",
              "  'Befund'],\n",
              " ['Bei', '-', 'ist', 'der', 'Normalbereich', 'zuende'],\n",
              " ['Löwenzahnsalat', 'sollte', 'die', 'Nierenleistung', 'verbessern', 'können'],\n",
              " ['heißt', 'auch', 'piss', 'es', 'lit', 'Bettpisser', 'auf', 'französich']]"
            ]
          },
          "metadata": {
            "tags": []
          },
          "execution_count": 96
        }
      ]
    },
    {
      "cell_type": "code",
      "metadata": {
        "id": "6FP0c4tp1XzI",
        "colab_type": "code",
        "colab": {
          "base_uri": "https://localhost:8080/",
          "height": 34
        },
        "outputId": "c93bad4c-9532-4060-eb37-2d762bebe254"
      },
      "source": [
        "sent_corpus_3 = sent_corpus_1 + sent_corpus_2\n",
        "len(sent_corpus_3)"
      ],
      "execution_count": 124,
      "outputs": [
        {
          "output_type": "execute_result",
          "data": {
            "text/plain": [
              "264041"
            ]
          },
          "metadata": {
            "tags": []
          },
          "execution_count": 124
        }
      ]
    },
    {
      "cell_type": "code",
      "metadata": {
        "id": "w8l7EYN0GGZX",
        "colab_type": "code",
        "colab": {
          "base_uri": "https://localhost:8080/",
          "height": 34
        },
        "outputId": "73dfc1d0-9d33-4407-bc29-c9f76ff6b549"
      },
      "source": [
        "len(sent_corpus_2)"
      ],
      "execution_count": 125,
      "outputs": [
        {
          "output_type": "execute_result",
          "data": {
            "text/plain": [
              "235925"
            ]
          },
          "metadata": {
            "tags": []
          },
          "execution_count": 125
        }
      ]
    },
    {
      "cell_type": "code",
      "metadata": {
        "id": "ukbovGG3wgDt",
        "colab_type": "code",
        "colab": {}
      },
      "source": [
        "sent_corpus_pd = pd.DataFrame(sent_corpus_3)\n",
        "sent_corpus_pd.to_csv(\"sent_corpus_3.csv\")"
      ],
      "execution_count": 127,
      "outputs": []
    },
    {
      "cell_type": "markdown",
      "metadata": {
        "id": "dkXb48bHU70Q",
        "colab_type": "text"
      },
      "source": [
        "# 4. Word Embeddings Model "
      ]
    },
    {
      "cell_type": "code",
      "metadata": {
        "id": "sDpXHpfrU_xO",
        "colab_type": "code",
        "colab": {
          "base_uri": "https://localhost:8080/",
          "height": 102
        },
        "outputId": "acb7e0bf-6732-40e3-8c44-8ac803532ac6"
      },
      "source": [
        "# Loading libraries\n",
        "import time\n",
        "import pandas as pd\n",
        "from gensim.models import Word2Vec\n",
        "\n",
        "def cal_elapsed_time(s):\n",
        "    return print(\"Elapsed time:\\t\", round((time.time() - s),2))\n",
        "s_time = time.time()\n",
        "cal_elapsed_time(s=s_time)\n",
        "\n",
        "s_time = time.time()\n",
        "print(\"Model Training Started...\")\n",
        "model_w2v = Word2Vec(sentences=sent_corpus_2, size=300, window=4, min_count=1, workers=4) #sg=1\n",
        "print('time :', cal_elapsed_time(s_time))\n",
        "\n",
        "print(\"Total number of unique words loaded in Model : \", len(model_w2v.wv.vocab))\n",
        "\n"
      ],
      "execution_count": 132,
      "outputs": [
        {
          "output_type": "stream",
          "text": [
            "Elapsed time:\t 0.0\n",
            "Model Training Started...\n",
            "Elapsed time:\t 70.73\n",
            "time : None\n",
            "Total number of unique words loaded in Model :  127398\n"
          ],
          "name": "stdout"
        }
      ]
    },
    {
      "cell_type": "code",
      "metadata": {
        "id": "GqOT_p1gyLwI",
        "colab_type": "code",
        "colab": {
          "base_uri": "https://localhost:8080/",
          "height": 71
        },
        "outputId": "bc5d7e89-41b7-4ed0-8e59-3b703170920d"
      },
      "source": [
        "model_w2v.save(\"word2vec_germed_model300_v6_mergedcorpus.bin\")"
      ],
      "execution_count": 131,
      "outputs": [
        {
          "output_type": "stream",
          "text": [
            "/usr/local/lib/python3.6/dist-packages/smart_open/smart_open_lib.py:254: UserWarning: This function is deprecated, use smart_open.open instead. See the migration notes for details: https://github.com/RaRe-Technologies/smart_open/blob/master/README.rst#migrating-to-the-new-open-function\n",
            "  'See the migration notes for details: %s' % _MIGRATION_NOTES_URL\n"
          ],
          "name": "stderr"
        }
      ]
    },
    {
      "cell_type": "code",
      "metadata": {
        "id": "_XM1SxIel05z",
        "colab_type": "code",
        "colab": {
          "base_uri": "https://localhost:8080/",
          "height": 241
        },
        "outputId": "67cb59d5-dd19-49cb-bd32-86e830dcfccd"
      },
      "source": [
        "model_w2v.wv.most_similar(\"Woche\", topn=10)"
      ],
      "execution_count": 129,
      "outputs": [
        {
          "output_type": "stream",
          "text": [
            "/usr/local/lib/python3.6/dist-packages/gensim/matutils.py:737: FutureWarning: Conversion of the second argument of issubdtype from `int` to `np.signedinteger` is deprecated. In future, it will be treated as `np.int64 == np.dtype(int).type`.\n",
            "  if np.issubdtype(vec.dtype, np.int):\n"
          ],
          "name": "stderr"
        },
        {
          "output_type": "execute_result",
          "data": {
            "text/plain": [
              "[('woche', 0.8980359435081482),\n",
              " ('Stunde', 0.7820115089416504),\n",
              " ('Nacht', 0.7367208003997803),\n",
              " ('wochen', 0.7240251302719116),\n",
              " ('Wochen', 0.7126184701919556),\n",
              " ('tage', 0.707195520401001),\n",
              " ('Tage', 0.6922171115875244),\n",
              " ('zeit', 0.6884756088256836),\n",
              " ('op', 0.6756557822227478),\n",
              " ('Jahr', 0.658408522605896)]"
            ]
          },
          "metadata": {
            "tags": []
          },
          "execution_count": 129
        }
      ]
    },
    {
      "cell_type": "code",
      "metadata": {
        "id": "3vP9wE1XWA2_",
        "colab_type": "code",
        "colab": {}
      },
      "source": [
        "[('woche', 0.8980359435081482),\n",
        " ('Stunde', 0.7820115089416504),\n",
        " ('Nacht', 0.7367208003997803),\n",
        " ('wochen', 0.7240251302719116),\n",
        " ('Wochen', 0.7126184701919556),\n",
        " ('tage', 0.707195520401001),\n",
        " ('Tage', 0.6922171115875244),\n",
        " ('zeit', 0.6884756088256836),\n",
        " ('op', 0.6756557822227478),\n",
        " ('Jahr', 0.658408522605896)]\n",
        " \n",
        "[('woche', 0.9124968647956848),\n",
        " ('Stunde', 0.7964605093002319),\n",
        " ('Nacht', 0.7602499723434448),\n",
        " ('Wochen', 0.7167088985443115),\n",
        " ('wochen', 0.7163565158843994),\n",
        " ('zeit', 0.710381031036377),\n",
        " ('Weile', 0.6988216638565063),\n",
        " ('tage', 0.6961817741394043),\n",
        " ('Tage', 0.6799865961074829),\n",
        " ('Monat', 0.6722192764282227)]"
      ],
      "execution_count": null,
      "outputs": []
    },
    {
      "cell_type": "code",
      "metadata": {
        "id": "Oy7R8QXm0C4d",
        "colab_type": "code",
        "colab": {}
      },
      "source": [
        ""
      ],
      "execution_count": null,
      "outputs": []
    },
    {
      "cell_type": "markdown",
      "metadata": {
        "id": "OYpx-hqW0DZX",
        "colab_type": "text"
      },
      "source": [
        "# Fasttext Word Embeddings"
      ]
    },
    {
      "cell_type": "code",
      "metadata": {
        "id": "k7gRuQ190BYw",
        "colab_type": "code",
        "colab": {
          "base_uri": "https://localhost:8080/",
          "height": 34
        },
        "outputId": "c03035a4-3053-49d5-e95a-3b00d87e4308"
      },
      "source": [
        "from gensim.models import FastText\n",
        "model_fst = FastText(sentences=sent_corpus_3, size=300, window=4, min_count=1, workers=4)\n",
        "\n",
        "print(\"Total number of unique words loaded in Model : \", len(model_fst.wv.vocab))\n",
        "\n"
      ],
      "execution_count": 135,
      "outputs": [
        {
          "output_type": "stream",
          "text": [
            "Total number of unique words loaded in Model :  142188\n"
          ],
          "name": "stdout"
        }
      ]
    },
    {
      "cell_type": "code",
      "metadata": {
        "id": "l-Yxs3wT0dFa",
        "colab_type": "code",
        "colab": {
          "base_uri": "https://localhost:8080/",
          "height": 241
        },
        "outputId": "78f19762-c510-4ed8-baa2-f808d2e071cd"
      },
      "source": [
        "model_fst.wv.most_similar(\"Woche\", topn=10)"
      ],
      "execution_count": 136,
      "outputs": [
        {
          "output_type": "stream",
          "text": [
            "/usr/local/lib/python3.6/dist-packages/gensim/matutils.py:737: FutureWarning: Conversion of the second argument of issubdtype from `int` to `np.signedinteger` is deprecated. In future, it will be treated as `np.int64 == np.dtype(int).type`.\n",
            "  if np.issubdtype(vec.dtype, np.int):\n"
          ],
          "name": "stderr"
        },
        {
          "output_type": "execute_result",
          "data": {
            "text/plain": [
              "[('×Woche', 0.9753472805023193),\n",
              " ('SS-Woche', 0.975199282169342),\n",
              " ('mgWoche', 0.9744548797607422),\n",
              " ('OleovitWoche', 0.9721533060073853),\n",
              " ('MalWoche', 0.9629256725311279),\n",
              " ('TageWoche', 0.9615007638931274),\n",
              " ('woche', 0.9582335948944092),\n",
              " ('StundenWoche', 0.9453002214431763),\n",
              " ('Stunden-Woche', 0.943954586982727),\n",
              " ('WocheAngela', 0.9419333338737488)]"
            ]
          },
          "metadata": {
            "tags": []
          },
          "execution_count": 136
        }
      ]
    },
    {
      "cell_type": "code",
      "metadata": {
        "id": "7XslvxRi4GP7",
        "colab_type": "code",
        "colab": {
          "base_uri": "https://localhost:8080/",
          "height": 71
        },
        "outputId": "0e80370f-234a-42da-ad1f-0a4a4c85efd6"
      },
      "source": [
        "model_fst.save(\"fst_germed_model300_v6_mergedcorpus.bin\")"
      ],
      "execution_count": 137,
      "outputs": [
        {
          "output_type": "stream",
          "text": [
            "/usr/local/lib/python3.6/dist-packages/smart_open/smart_open_lib.py:254: UserWarning: This function is deprecated, use smart_open.open instead. See the migration notes for details: https://github.com/RaRe-Technologies/smart_open/blob/master/README.rst#migrating-to-the-new-open-function\n",
            "  'See the migration notes for details: %s' % _MIGRATION_NOTES_URL\n"
          ],
          "name": "stderr"
        }
      ]
    },
    {
      "cell_type": "code",
      "metadata": {
        "id": "1_TC2YAZ2yzW",
        "colab_type": "code",
        "colab": {}
      },
      "source": [
        "[('mgWoche', 0.9802114367485046),\n",
        " ('SS-Woche', 0.9787499904632568),\n",
        " ('OleovitWoche', 0.9784151315689087),\n",
        " ('MalWoche', 0.9716570377349854),\n",
        " ('woche', 0.9679470062255859),\n",
        " ('TageWoche', 0.9576689004898071),\n",
        " ('WocheAngela', 0.950394868850708),\n",
        " ('StundenWoche', 0.9486403465270996),\n",
        " ('Stunden-Woche', 0.947299063205719),\n",
        " ('Wocheum', 0.9403384923934937)]"
      ],
      "execution_count": null,
      "outputs": []
    }
  ]
}