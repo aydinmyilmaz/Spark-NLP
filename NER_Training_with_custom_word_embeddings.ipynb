{
  "nbformat": 4,
  "nbformat_minor": 0,
  "metadata": {
    "colab": {
      "name": "NER_Training.ipynb",
      "provenance": [],
      "collapsed_sections": [],
      "authorship_tag": "ABX9TyMtnYay1NP7/vbMp/o2y0CI",
      "include_colab_link": true
    },
    "kernelspec": {
      "name": "python3",
      "display_name": "Python 3"
    }
  },
  "cells": [
    {
      "cell_type": "markdown",
      "metadata": {
        "id": "view-in-github",
        "colab_type": "text"
      },
      "source": [
        "<a href=\"https://colab.research.google.com/github/aydinmyilmaz/Spark-NLP/blob/master/NER_Training_with_custom_word_embeddings.ipynb\" target=\"_parent\"><img src=\"https://colab.research.google.com/assets/colab-badge.svg\" alt=\"Open In Colab\"/></a>"
      ]
    },
    {
      "cell_type": "code",
      "metadata": {
        "id": "o5SzfgsHCgdX",
        "colab_type": "code",
        "colab": {}
      },
      "source": [
        ""
      ],
      "execution_count": null,
      "outputs": []
    },
    {
      "cell_type": "code",
      "metadata": {
        "id": "zftxbqpHyjb3",
        "colab_type": "code",
        "colab": {
          "base_uri": "https://localhost:8080/",
          "height": 136
        },
        "outputId": "2fafde5b-af14-412f-e05d-40f179f61c89"
      },
      "source": [
        "\n",
        "import os\n",
        "\n",
        "# Install java\n",
        "! apt-get update -qq\n",
        "! apt-get install -y openjdk-8-jdk-headless -qq > /dev/null\n",
        "\n",
        "os.environ[\"JAVA_HOME\"] = \"/usr/lib/jvm/java-8-openjdk-amd64\"\n",
        "os.environ[\"PATH\"] = os.environ[\"JAVA_HOME\"] + \"/bin:\" + os.environ[\"PATH\"]\n",
        "! java -version\n",
        "\n",
        "# Install pyspark\n",
        "! pip install --ignore-installed -q pyspark==2.4.4\n",
        "! pip install --ignore-installed -q spark-nlp==2.5.4"
      ],
      "execution_count": 1,
      "outputs": [
        {
          "output_type": "stream",
          "text": [
            "openjdk version \"1.8.0_265\"\n",
            "OpenJDK Runtime Environment (build 1.8.0_265-8u265-b01-0ubuntu2~18.04-b01)\n",
            "OpenJDK 64-Bit Server VM (build 25.265-b01, mixed mode)\n",
            "\u001b[K     |████████████████████████████████| 215.7MB 65kB/s \n",
            "\u001b[K     |████████████████████████████████| 204kB 55.0MB/s \n",
            "\u001b[?25h  Building wheel for pyspark (setup.py) ... \u001b[?25l\u001b[?25hdone\n",
            "\u001b[K     |████████████████████████████████| 133kB 2.6MB/s \n",
            "\u001b[?25h"
          ],
          "name": "stdout"
        }
      ]
    },
    {
      "cell_type": "code",
      "metadata": {
        "id": "Jgl9iYGF0FCK",
        "colab_type": "code",
        "colab": {
          "base_uri": "https://localhost:8080/",
          "height": 250
        },
        "outputId": "45c41bdf-ac67-46bc-d1d2-72e7a988504b"
      },
      "source": [
        "import sparknlp\n",
        "\n",
        "spark = sparknlp.start() # for GPU training >> sparknlp.start(gpu = True) # for Spark 2.3 =>> sparknlp.start(spark23 = True)\n",
        "\n",
        "from sparknlp.base import *\n",
        "from sparknlp.annotator import *\n",
        "\n",
        "print(\"Spark NLP version\", sparknlp.version())\n",
        "\n",
        "print(\"Apache Spark version:\", spark.version)\n",
        "\n",
        "spark"
      ],
      "execution_count": 2,
      "outputs": [
        {
          "output_type": "stream",
          "text": [
            "Spark NLP version 2.5.4\n",
            "Apache Spark version: 2.4.4\n"
          ],
          "name": "stdout"
        },
        {
          "output_type": "execute_result",
          "data": {
            "text/html": [
              "\n",
              "            <div>\n",
              "                <p><b>SparkSession - in-memory</b></p>\n",
              "                \n",
              "        <div>\n",
              "            <p><b>SparkContext</b></p>\n",
              "\n",
              "            <p><a href=\"http://4b8b585a11ed:4040\">Spark UI</a></p>\n",
              "\n",
              "            <dl>\n",
              "              <dt>Version</dt>\n",
              "                <dd><code>v2.4.4</code></dd>\n",
              "              <dt>Master</dt>\n",
              "                <dd><code>local[*]</code></dd>\n",
              "              <dt>AppName</dt>\n",
              "                <dd><code>Spark NLP</code></dd>\n",
              "            </dl>\n",
              "        </div>\n",
              "        \n",
              "            </div>\n",
              "        "
            ],
            "text/plain": [
              "<pyspark.sql.session.SparkSession at 0x7f900d082ba8>"
            ]
          },
          "metadata": {
            "tags": []
          },
          "execution_count": 2
        }
      ]
    },
    {
      "cell_type": "code",
      "metadata": {
        "id": "5oZW3-gE75Fy",
        "colab_type": "code",
        "colab": {}
      },
      "source": [
        ""
      ],
      "execution_count": null,
      "outputs": []
    },
    {
      "cell_type": "markdown",
      "metadata": {
        "id": "67_VDSfY76I8",
        "colab_type": "text"
      },
      "source": [
        "# 1st CoNLL File with all NERs"
      ]
    },
    {
      "cell_type": "code",
      "metadata": {
        "id": "fuuGRTei0KRJ",
        "colab_type": "code",
        "colab": {
          "base_uri": "https://localhost:8080/",
          "height": 561
        },
        "outputId": "a52d1974-84a0-4453-b327-538d429c0c9f"
      },
      "source": [
        "with open(\"/content/project_german_med_api_0906.conll\") as f:\n",
        "    train_txt =f.read()\n",
        "\n",
        "print (train_txt[:500])"
      ],
      "execution_count": 3,
      "outputs": [
        {
          "output_type": "stream",
          "text": [
            "-DOCSTART- -X- -X- O\n",
            "\n",
            "Thread -X- -X- O\n",
            ": -X- -X- O\n",
            "[Nierenkolik -X- -X- O\n",
            "ohne -X- -X- O\n",
            "Stein -X- -X- B-MEDICAL_CONDITION\n",
            "und -X- -X- O\n",
            "ohne -X- -X- O\n",
            "Gries?] -X- -X- O\n",
            "Text -X- -X- O\n",
            ": -X- -X- O\n",
            "[Eine -X- -X- O\n",
            "Nierenbeckenstenose -X- -X- B-DIAGLAB_PROCEDURE\n",
            "würde -X- -X- O\n",
            "sicherlich -X- -X- O\n",
            ", -X- -X- O\n",
            "wenn -X- -X- O\n",
            "sie -X- -X- O\n",
            "vorhanden -X- -X- O\n",
            "wäre -X- -X- O\n",
            ", -X- -X- O\n",
            "bemerkt -X- -X- O\n",
            "worden -X- -X- O\n",
            "im -X- -X- O\n",
            "Krankenhaus -X- -X- O\n",
            ". -X- -X- O\n",
            "\n",
            "] -X- -X- O\n",
            "\n",
            "Thread -X- -X- O\n",
            ":\n"
          ],
          "name": "stdout"
        }
      ]
    },
    {
      "cell_type": "code",
      "metadata": {
        "id": "nZngCBNNr4Ug",
        "colab_type": "code",
        "colab": {
          "base_uri": "https://localhost:8080/",
          "height": 204
        },
        "outputId": "f385a015-a136-44bc-9dd8-ae87bb38fd96"
      },
      "source": [
        "import pandas as pd\n",
        "pdDF = pd.read_csv('/content/Ger_Med_CoNLL_changed.conll', sep=' ', header=0, index_col=None) #project_german_med_api_0906.conll\n",
        "pdDF.head()"
      ],
      "execution_count": 35,
      "outputs": [
        {
          "output_type": "execute_result",
          "data": {
            "text/html": [
              "<div>\n",
              "<style scoped>\n",
              "    .dataframe tbody tr th:only-of-type {\n",
              "        vertical-align: middle;\n",
              "    }\n",
              "\n",
              "    .dataframe tbody tr th {\n",
              "        vertical-align: top;\n",
              "    }\n",
              "\n",
              "    .dataframe thead th {\n",
              "        text-align: right;\n",
              "    }\n",
              "</style>\n",
              "<table border=\"1\" class=\"dataframe\">\n",
              "  <thead>\n",
              "    <tr style=\"text-align: right;\">\n",
              "      <th></th>\n",
              "      <th>-DOCSTART-</th>\n",
              "      <th>-X-</th>\n",
              "      <th>-X-.1</th>\n",
              "      <th>O</th>\n",
              "    </tr>\n",
              "  </thead>\n",
              "  <tbody>\n",
              "    <tr>\n",
              "      <th>0</th>\n",
              "      <td>Thread</td>\n",
              "      <td>-X-</td>\n",
              "      <td>-X-</td>\n",
              "      <td>O</td>\n",
              "    </tr>\n",
              "    <tr>\n",
              "      <th>1</th>\n",
              "      <td>:</td>\n",
              "      <td>-X-</td>\n",
              "      <td>-X-</td>\n",
              "      <td>O</td>\n",
              "    </tr>\n",
              "    <tr>\n",
              "      <th>2</th>\n",
              "      <td>[Nierenkolik</td>\n",
              "      <td>-X-</td>\n",
              "      <td>-X-</td>\n",
              "      <td>O</td>\n",
              "    </tr>\n",
              "    <tr>\n",
              "      <th>3</th>\n",
              "      <td>ohne</td>\n",
              "      <td>-X-</td>\n",
              "      <td>-X-</td>\n",
              "      <td>O</td>\n",
              "    </tr>\n",
              "    <tr>\n",
              "      <th>4</th>\n",
              "      <td>Stein</td>\n",
              "      <td>-X-</td>\n",
              "      <td>-X-</td>\n",
              "      <td>B-MEDICAL_CONDITION</td>\n",
              "    </tr>\n",
              "  </tbody>\n",
              "</table>\n",
              "</div>"
            ],
            "text/plain": [
              "     -DOCSTART-  -X- -X-.1                    O\n",
              "0        Thread  -X-   -X-                    O\n",
              "1             :  -X-   -X-                    O\n",
              "2  [Nierenkolik  -X-   -X-                    O\n",
              "3          ohne  -X-   -X-                    O\n",
              "4         Stein  -X-   -X-  B-MEDICAL_CONDITION"
            ]
          },
          "metadata": {
            "tags": []
          },
          "execution_count": 35
        }
      ]
    },
    {
      "cell_type": "code",
      "metadata": {
        "id": "_trxykydsITs",
        "colab_type": "code",
        "colab": {
          "base_uri": "https://localhost:8080/",
          "height": 646
        },
        "outputId": "8e370146-3f65-4444-96d2-70547311e81b"
      },
      "source": [
        "pdDF.O.value_counts()"
      ],
      "execution_count": 21,
      "outputs": [
        {
          "output_type": "execute_result",
          "data": {
            "text/plain": [
              "O                          328279\n",
              "B-MEDICAL_CONDITION         13061\n",
              "I-TIME_INFORMATION           6482\n",
              "B-BODY_PART                  4875\n",
              "B-TIME_INFORMATION           4753\n",
              "B-MEASUREMENT                4205\n",
              "B-TREATMENT                  3811\n",
              "B-PERSON                     3795\n",
              "B-MEDICATION                 3248\n",
              "B-STATE_OF_HEALTH            2710\n",
              "B-PROCESS                    2035\n",
              "B-DIAGLAB_PROCEDURE          1781\n",
              "I-MEASUREMENT                1726\n",
              "B-BIOLOGICAL_CHEMISTRY       1483\n",
              "B-BODY_FLUID                 1260\n",
              "B-BIOLOGICAL_PARAMETER        943\n",
              "I-MEDICAL_CONDITION           692\n",
              "B-LOCAL_SPECIFICATION         570\n",
              "B-MEDICAL_DEVICE              550\n",
              "I-DOSING                      429\n",
              "I-STATE_OF_HEALTH             388\n",
              "B-DOSING                      386\n",
              "I-MEDICATION                  297\n",
              "B-MEDICAL_SPECIFICATION       285\n",
              "I-PERSON                      266\n",
              "I-TREATMENT                   243\n",
              "I-LOCAL_SPECIFICATION          67\n",
              "I-BIOLOGICAL_CHEMISTRY         53\n",
              "I-BIOLOGICAL_PARAMETER         48\n",
              "I-MEDICAL_DEVICE               39\n",
              "I-DIAGLAB_PROCEDURE            37\n",
              "I-BODY_PART                    28\n",
              "B-TISSUE                       19\n",
              "I-MEDICAL_SPECIFICATION        15\n",
              "I-PROCESS                       4\n",
              "B-DEGREE                        1\n",
              "Name: O, dtype: int64"
            ]
          },
          "metadata": {
            "tags": []
          },
          "execution_count": 21
        }
      ]
    },
    {
      "cell_type": "code",
      "metadata": {
        "id": "XynBTXzk8J_I",
        "colab_type": "code",
        "colab": {}
      },
      "source": [
        ""
      ],
      "execution_count": 37,
      "outputs": []
    },
    {
      "cell_type": "markdown",
      "metadata": {
        "id": "Atc6fB-p8Vi_",
        "colab_type": "text"
      },
      "source": [
        "# 2nd CoNLL File B-TISSUE, I-PROCESS  removed"
      ]
    },
    {
      "cell_type": "code",
      "metadata": {
        "id": "hxkzbw4Wx7Zv",
        "colab_type": "code",
        "colab": {
          "base_uri": "https://localhost:8080/",
          "height": 170
        },
        "outputId": "4d269522-3dc8-46bb-d97e-d83325bffdae"
      },
      "source": [
        "from sparknlp.training import CoNLL\n",
        "\n",
        "conll_data = CoNLL().readDataset(spark, '/content/project_german_med_api_0906.conll')\n",
        "\n",
        "conll_data.show(3)"
      ],
      "execution_count": 3,
      "outputs": [
        {
          "output_type": "stream",
          "text": [
            "+--------------------+--------------------+--------------------+--------------------+--------------------+--------------------+\n",
            "|                text|            document|            sentence|               token|                 pos|               label|\n",
            "+--------------------+--------------------+--------------------+--------------------+--------------------+--------------------+\n",
            "|Thread : [Nierenk...|[[document, 0, 15...|[[document, 0, 15...|[[token, 0, 5, Th...|[[pos, 0, 5, -X-,...|[[named_entity, 0...|\n",
            "|                   ]|[[document, 0, 0,...|[[document, 0, 0,...|[[token, 0, 0, ],...|[[pos, 0, 0, -X-,...|[[named_entity, 0...|\n",
            "|Thread : [Wandern...|[[document, 0, 24...|[[document, 0, 24...|[[token, 0, 5, Th...|[[pos, 0, 5, -X-,...|[[named_entity, 0...|\n",
            "+--------------------+--------------------+--------------------+--------------------+--------------------+--------------------+\n",
            "only showing top 3 rows\n",
            "\n"
          ],
          "name": "stdout"
        }
      ]
    },
    {
      "cell_type": "code",
      "metadata": {
        "id": "5CcixXkq0m2N",
        "colab_type": "code",
        "colab": {
          "base_uri": "https://localhost:8080/",
          "height": 680
        },
        "outputId": "8f29195c-b187-4b15-ac13-4daa4cf512cc"
      },
      "source": [
        "from pyspark.sql import functions as F\n",
        "conll_data.select(F.explode(F.arrays_zip('token.result','label.result')).alias(\"cols\")) \\\n",
        ".select(F.expr(\"cols['0']\").alias(\"token\"),\n",
        "        F.expr(\"cols['1']\").alias(\"ground_truth\")).groupBy('ground_truth').count().orderBy('count', ascending=False).show(100,truncate=False)\n"
      ],
      "execution_count": 5,
      "outputs": [
        {
          "output_type": "stream",
          "text": [
            "+-----------------------+------+\n",
            "|ground_truth           |count |\n",
            "+-----------------------+------+\n",
            "|O                      |328313|\n",
            "|B-MEDICAL_CONDITION    |13061 |\n",
            "|I-TIME_INFORMATION     |6482  |\n",
            "|B-BODY_PART            |4875  |\n",
            "|B-TIME_INFORMATION     |4753  |\n",
            "|B-MEASUREMENT          |4205  |\n",
            "|B-TREATMENT            |3811  |\n",
            "|B-PERSON               |3795  |\n",
            "|B-MEDICATION           |3248  |\n",
            "|B-STATE_OF_HEALTH      |2710  |\n",
            "|B-PROCESS              |2035  |\n",
            "|B-DIAGLAB_PROCEDURE    |1781  |\n",
            "|I-MEASUREMENT          |1726  |\n",
            "|B-BIOLOGICAL_CHEMISTRY |1483  |\n",
            "|B-BODY_FLUID           |1260  |\n",
            "|B-BIOLOGICAL_PARAMETER |943   |\n",
            "|I-MEDICAL_CONDITION    |692   |\n",
            "|B-LOCAL_SPECIFICATION  |570   |\n",
            "|B-MEDICAL_DEVICE       |550   |\n",
            "|I-DOSING               |429   |\n",
            "|I-STATE_OF_HEALTH      |388   |\n",
            "|B-DOSING               |386   |\n",
            "|I-MEDICATION           |297   |\n",
            "|B-MEDICAL_SPECIFICATION|285   |\n",
            "|I-PERSON               |266   |\n",
            "|I-TREATMENT            |243   |\n",
            "|I-LOCAL_SPECIFICATION  |67    |\n",
            "|I-BIOLOGICAL_CHEMISTRY |53    |\n",
            "|I-BIOLOGICAL_PARAMETER |48    |\n",
            "|I-MEDICAL_DEVICE       |39    |\n",
            "|I-DIAGLAB_PROCEDURE    |37    |\n",
            "|I-BODY_PART            |28    |\n",
            "|I-MEDICAL_SPECIFICATION|15    |\n",
            "|B-DEGREE               |1     |\n",
            "+-----------------------+------+\n",
            "\n"
          ],
          "name": "stdout"
        }
      ]
    },
    {
      "cell_type": "code",
      "metadata": {
        "id": "J8wascqV9PGf",
        "colab_type": "code",
        "colab": {
          "base_uri": "https://localhost:8080/",
          "height": 204
        },
        "outputId": "e8f5e8d0-5e04-4e22-f1b1-8f1686410024"
      },
      "source": [
        "! wget https://dl.fbaipublicfiles.com/fasttext/vectors-crawl/cc.de.300.vec.gz\n",
        "!gunzip cc.de.300.vec.gz"
      ],
      "execution_count": 6,
      "outputs": [
        {
          "output_type": "stream",
          "text": [
            "--2020-09-14 10:11:40--  https://dl.fbaipublicfiles.com/fasttext/vectors-crawl/cc.de.300.vec.gz\n",
            "Resolving dl.fbaipublicfiles.com (dl.fbaipublicfiles.com)... 104.22.75.142, 104.22.74.142, 172.67.9.4, ...\n",
            "Connecting to dl.fbaipublicfiles.com (dl.fbaipublicfiles.com)|104.22.75.142|:443... connected.\n",
            "HTTP request sent, awaiting response... 200 OK\n",
            "Length: 1278030050 (1.2G) [binary/octet-stream]\n",
            "Saving to: ‘cc.de.300.vec.gz’\n",
            "\n",
            "cc.de.300.vec.gz    100%[===================>]   1.19G  14.0MB/s    in 88s     \n",
            "\n",
            "2020-09-14 10:13:09 (13.8 MB/s) - ‘cc.de.300.vec.gz’ saved [1278030050/1278030050]\n",
            "\n"
          ],
          "name": "stdout"
        }
      ]
    },
    {
      "cell_type": "markdown",
      "metadata": {
        "id": "8xX7E6S3CkT2",
        "colab_type": "text"
      },
      "source": [
        "# Build Pipeline"
      ]
    },
    {
      "cell_type": "code",
      "metadata": {
        "id": "BlL9st61DrUH",
        "colab_type": "code",
        "colab": {
          "base_uri": "https://localhost:8080/",
          "height": 51
        },
        "outputId": "a6fbe438-9efd-46b6-c2bf-ed28824d5123"
      },
      "source": [
        "# Split data set\n",
        "from sparknlp.training import CoNLL\n",
        "\n",
        "#conll_data = CoNLL().readDataset(spark, './eng.train')\n",
        "\n",
        "(training_data, test_data) = conll_data.randomSplit([0.7, 0.3], seed = 100)\n",
        "\n",
        "print(\"Training Dataset Count: \" + str(training_data.count()))\n",
        "print(\"Test Dataset Count: \" + str(test_data.count()))"
      ],
      "execution_count": 7,
      "outputs": [
        {
          "output_type": "stream",
          "text": [
            "Training Dataset Count: 20450\n",
            "Test Dataset Count: 8661\n"
          ],
          "name": "stdout"
        }
      ]
    },
    {
      "cell_type": "code",
      "metadata": {
        "id": "aQs_d5YPAMp1",
        "colab_type": "code",
        "colab": {}
      },
      "source": [
        "'''\n",
        "word_embeddings = WordEmbeddings()\\\n",
        "  .setInputCols([\"document\", \"token\"])\\\n",
        "  .setOutputCol(\"embeddings\")\\\n",
        "  .setStoragePath('cc.de.300.vec', \"TEXT\")\\\n",
        "  .setDimension(300)\n",
        "  '''\n",
        "\n",
        "custom_embeddings = WordEmbeddings()\\\n",
        "  .setInputCols([\"document\", \"token\"])\\\n",
        "  .setOutputCol(\"word_embeddings\")\\\n",
        "  .setStoragePath('model_w2v.bin', \"BINARY\")\\\n",
        "  .setDimension(300)\n"
      ],
      "execution_count": 26,
      "outputs": []
    },
    {
      "cell_type": "code",
      "metadata": {
        "id": "5AUeDYTTAXDO",
        "colab_type": "code",
        "colab": {
          "base_uri": "https://localhost:8080/",
          "height": 34
        },
        "outputId": "c2c9cabc-4744-4665-d3af-571d120eda7f"
      },
      "source": [
        "!mkdir ner_logs"
      ],
      "execution_count": 27,
      "outputs": [
        {
          "output_type": "stream",
          "text": [
            "mkdir: cannot create directory ‘ner_logs’: File exists\n"
          ],
          "name": "stdout"
        }
      ]
    },
    {
      "cell_type": "code",
      "metadata": {
        "id": "LLdWPnFZAX3A",
        "colab_type": "code",
        "colab": {}
      },
      "source": [
        "nerTagger = NerDLApproach()\\\n",
        "  .setInputCols([\"sentence\", \"token\", \"embeddings\"])\\\n",
        "  .setLabelColumn(\"label\")\\\n",
        "  .setOutputCol(\"ner\")\\\n",
        "  .setMaxEpochs(2)\\\n",
        "  .setLr(0.003)\\\n",
        "  .setPo(0.005)\\\n",
        "  .setBatchSize(8)\\\n",
        "  .setRandomSeed(0)\\\n",
        "  .setVerbose(1)\\\n",
        "  .setValidationSplit(0.2)\\\n",
        "  .setEvaluationLogExtended(True) \\\n",
        "  .setEnableOutputLogs(True)\\\n",
        "  .setIncludeConfidence(True)\\\n",
        "  .setOutputLogsPath('ner_logs') # if not set, logs will be written to ~/annotator_logs\n",
        "\n",
        "ner_pipeline = Pipeline(stages=[\n",
        "          word_embeddings,\n",
        "          nerTagger\n",
        " ])"
      ],
      "execution_count": 29,
      "outputs": []
    },
    {
      "cell_type": "markdown",
      "metadata": {
        "id": "m37h3U7ACqn_",
        "colab_type": "text"
      },
      "source": [
        "## Fitting"
      ]
    },
    {
      "cell_type": "code",
      "metadata": {
        "id": "HU3-DntAAxk2",
        "colab_type": "code",
        "colab": {
          "base_uri": "https://localhost:8080/",
          "height": 51
        },
        "outputId": "b4ffc434-ade4-49ee-9e1d-837f46e56db5"
      },
      "source": [
        "%%time\n",
        "\n",
        "ner_model = ner_pipeline.fit(training_data)"
      ],
      "execution_count": 30,
      "outputs": [
        {
          "output_type": "stream",
          "text": [
            "CPU times: user 347 ms, sys: 50 ms, total: 397 ms\n",
            "Wall time: 27min 46s\n"
          ],
          "name": "stdout"
        }
      ]
    },
    {
      "cell_type": "code",
      "metadata": {
        "id": "3SxR0t_gC4Qg",
        "colab_type": "code",
        "colab": {
          "base_uri": "https://localhost:8080/",
          "height": 85
        },
        "outputId": "bdb6cb42-1f15-4116-d680-32931c45aafc"
      },
      "source": [
        "#! cd ~/annotator_logs && ls -lt\n",
        "!cd ner_logs && ls -lt"
      ],
      "execution_count": 31,
      "outputs": [
        {
          "output_type": "stream",
          "text": [
            "total 28\n",
            "-rw-r--r-- 1 root root 4685 Sep 14 12:05 NerDLApproach_13d42060b86d.log\n",
            "-rw-r--r-- 1 root root 9362 Sep 14 11:57 NerDLApproach_daf954c7e368.log\n",
            "-rw-r--r-- 1 root root 4618 Sep 14 10:30 NerDLApproach_c44e43c7d6b1.log\n"
          ],
          "name": "stdout"
        }
      ]
    },
    {
      "cell_type": "code",
      "metadata": {
        "id": "rCcVa8h6C48x",
        "colab_type": "code",
        "colab": {}
      },
      "source": [
        ""
      ],
      "execution_count": null,
      "outputs": []
    },
    {
      "cell_type": "code",
      "metadata": {
        "id": "lydpMIBLC5Aj",
        "colab_type": "code",
        "colab": {
          "base_uri": "https://localhost:8080/",
          "height": 782
        },
        "outputId": "dee6d692-dd4e-4f0b-de8d-643a678c2d19"
      },
      "source": [
        "!head -n 45 ner_logs/NerDLApproach_13d42060b86d.log"
      ],
      "execution_count": 33,
      "outputs": [
        {
          "output_type": "stream",
          "text": [
            "Name of the selected graph: ner-dl/blstm_38_300_128_200.pb\n",
            "Training started - total epochs: 2 - lr: 0.003 - batch size: 8 - labels: 33 - chars: 96 - training examples: 16360\n",
            "\n",
            "\n",
            "Epoch 1/2 started, lr: 0.003, dataset size: 16360\n",
            "\n",
            "\n",
            "Epoch 1/2 - 748.34s - loss: 8468.353 - batches: 2047\n",
            "Quality on validation dataset (20.0%), validation examples = 4090\n",
            "time to finish evaluation: 54.94s\n",
            "label\t tp\t fp\t fn\t prec\t rec\t f1\n",
            "B-PERSON\t 352\t 29\t 146\t 0.9238845\t 0.7068273\t 0.80091006\n",
            "B-TIME_INFORMATION\t 525\t 142\t 141\t 0.78710645\t 0.7882883\t 0.78769696\n",
            "B-MEDICAL_SPECIFICATION\t 7\t 1\t 32\t 0.875\t 0.17948718\t 0.29787233\n",
            "B-BODY_FLUID\t 144\t 12\t 19\t 0.9230769\t 0.8834356\t 0.9028213\n",
            "I-TREATMENT\t 0\t 2\t 26\t 0.0\t 0.0\t 0.0\n",
            "B-STATE_OF_HEALTH\t 314\t 64\t 83\t 0.8306878\t 0.790932\t 0.8103226\n",
            "I-STATE_OF_HEALTH\t 27\t 9\t 34\t 0.75\t 0.44262296\t 0.55670106\n",
            "B-BIOLOGICAL_CHEMISTRY\t 170\t 55\t 71\t 0.75555557\t 0.7053942\t 0.7296138\n",
            "B-DOSING\t 18\t 1\t 33\t 0.94736844\t 0.3529412\t 0.5142857\n",
            "I-TIME_INFORMATION\t 752\t 95\t 205\t 0.88783944\t 0.78578895\t 0.8337029\n",
            "I-DIAGLAB_PROCEDURE\t 0\t 0\t 3\t 0.0\t 0.0\t 0.0\n",
            "I-MEASUREMENT\t 89\t 43\t 166\t 0.67424244\t 0.34901962\t 0.45994833\n",
            "I-BODY_PART\t 0\t 0\t 6\t 0.0\t 0.0\t 0.0\n",
            "B-BIOLOGICAL_PARAMETER\t 55\t 17\t 99\t 0.7638889\t 0.35714287\t 0.48672566\n",
            "I-BIOLOGICAL_CHEMISTRY\t 0\t 0\t 9\t 0.0\t 0.0\t 0.0\n",
            "I-MEDICAL_DEVICE\t 0\t 0\t 4\t 0.0\t 0.0\t 0.0\n",
            "I-LOCAL_SPECIFICATION\t 1\t 3\t 13\t 0.25\t 0.071428575\t 0.11111112\n",
            "B-DIAGLAB_PROCEDURE\t 160\t 68\t 98\t 0.7017544\t 0.62015504\t 0.65843624\n",
            "B-MEDICAL_CONDITION\t 1462\t 392\t 387\t 0.7885653\t 0.7906977\t 0.78963006\n",
            "I-MEDICAL_CONDITION\t 15\t 23\t 102\t 0.39473686\t 0.12820514\t 0.1935484\n",
            "B-TREATMENT\t 304\t 64\t 217\t 0.82608694\t 0.5834933\t 0.6839145\n",
            "I-MEDICAL_SPECIFICATION\t 0\t 0\t 1\t 0.0\t 0.0\t 0.0\n",
            "I-DOSING\t 9\t 3\t 55\t 0.75\t 0.140625\t 0.23684211\n",
            "B-MEDICAL_DEVICE\t 12\t 3\t 48\t 0.8\t 0.2\t 0.32000002\n",
            "B-BODY_PART\t 612\t 89\t 99\t 0.87303853\t 0.8607595\t 0.86685556\n",
            "B-MEASUREMENT\t 382\t 114\t 263\t 0.7701613\t 0.5922481\t 0.6695881\n",
            "B-MEDICATION\t 284\t 135\t 165\t 0.6778043\t 0.6325167\t 0.6543779\n",
            "I-MEDICATION\t 5\t 12\t 31\t 0.29411766\t 0.1388889\t 0.18867926\n",
            "B-PROCESS\t 144\t 56\t 140\t 0.72\t 0.5070422\t 0.5950414\n",
            "I-BIOLOGICAL_PARAMETER\t 0\t 0\t 4\t 0.0\t 0.0\t 0.0\n",
            "B-LOCAL_SPECIFICATION\t 75\t 2\t 31\t 0.97402596\t 0.7075472\t 0.81967217\n",
            "I-PERSON\t 0\t 0\t 46\t 0.0\t 0.0\t 0.0\n",
            "tp: 5918 fp: 1434 fn: 2777 labels: 32\n",
            "Macro-average\t prec: 0.56059194, rec: 0.384859, f1: 0.45639354\n"
          ],
          "name": "stdout"
        }
      ]
    },
    {
      "cell_type": "code",
      "metadata": {
        "id": "HVD1Qb8UC-FL",
        "colab_type": "code",
        "colab": {}
      },
      "source": [
        ""
      ],
      "execution_count": null,
      "outputs": []
    },
    {
      "cell_type": "markdown",
      "metadata": {
        "id": "idKUVW8DHbbs",
        "colab_type": "text"
      },
      "source": [
        "# Test Data- Transform"
      ]
    },
    {
      "cell_type": "code",
      "metadata": {
        "id": "-cI9yAYjHeYj",
        "colab_type": "code",
        "colab": {}
      },
      "source": [
        "word_embeddings.transform(test_data).write.parquet('ner_dl_test.parquet')"
      ],
      "execution_count": null,
      "outputs": []
    },
    {
      "cell_type": "code",
      "metadata": {
        "id": "fJPeTcmIHpra",
        "colab_type": "code",
        "colab": {
          "base_uri": "https://localhost:8080/",
          "height": 170
        },
        "outputId": "027b8ca3-84db-4bca-e6d2-6853f2119d91"
      },
      "source": [
        "from sparknlp.training import CoNLL\n",
        "\n",
        "#test_data = CoNLL().readDataset(spark, './eng.testa')\n",
        "\n",
        "test_data = word_embeddings.fit(test_data).transform(test_data)\n",
        "\n",
        "test_data.show(3)"
      ],
      "execution_count": 34,
      "outputs": [
        {
          "output_type": "stream",
          "text": [
            "+--------------------+--------------------+--------------------+--------------------+--------------------+--------------------+--------------------+\n",
            "|                text|            document|            sentence|               token|                 pos|               label|          embeddings|\n",
            "+--------------------+--------------------+--------------------+--------------------+--------------------+--------------------+--------------------+\n",
            "|                %-|]|[[document, 0, 3,...|[[document, 0, 3,...|[[token, 0, 3, %-...|[[pos, 0, 3, -X-,...|[[named_entity, 0...|[[word_embeddings...|\n",
            "|' Sind Sie sicher...|[[document, 0, 39...|[[document, 0, 39...|[[token, 0, 0, ',...|[[pos, 0, 0, -X-,...|[[named_entity, 0...|[[word_embeddings...|\n",
            "|( Aber du ist bes...|[[document, 0, 15...|[[document, 0, 15...|[[token, 0, 0, (,...|[[pos, 0, 0, -X-,...|[[named_entity, 0...|[[word_embeddings...|\n",
            "+--------------------+--------------------+--------------------+--------------------+--------------------+--------------------+--------------------+\n",
            "only showing top 3 rows\n",
            "\n"
          ],
          "name": "stdout"
        }
      ]
    },
    {
      "cell_type": "code",
      "metadata": {
        "id": "3i25MUf_OLCO",
        "colab_type": "code",
        "colab": {
          "base_uri": "https://localhost:8080/",
          "height": 190
        },
        "outputId": "dcbe6623-87b7-4e60-daa4-5aac15e6a515"
      },
      "source": [
        "predictions = ner_model.transform(test_data)\n",
        "predictions.show(3)"
      ],
      "execution_count": 35,
      "outputs": [
        {
          "output_type": "stream",
          "text": [
            "+--------------------+--------------------+--------------------+--------------------+--------------------+--------------------+--------------------+--------------------+\n",
            "|                text|            document|            sentence|               token|                 pos|               label|          embeddings|                 ner|\n",
            "+--------------------+--------------------+--------------------+--------------------+--------------------+--------------------+--------------------+--------------------+\n",
            "|                %-|]|[[document, 0, 3,...|[[document, 0, 3,...|[[token, 0, 3, %-...|[[pos, 0, 3, -X-,...|[[named_entity, 0...|[[word_embeddings...|[[named_entity, 0...|\n",
            "|' Sind Sie sicher...|[[document, 0, 39...|[[document, 0, 39...|[[token, 0, 0, ',...|[[pos, 0, 0, -X-,...|[[named_entity, 0...|[[word_embeddings...|[[named_entity, 0...|\n",
            "|( Aber du ist bes...|[[document, 0, 15...|[[document, 0, 15...|[[token, 0, 0, (,...|[[pos, 0, 0, -X-,...|[[named_entity, 0...|[[word_embeddings...|[[named_entity, 0...|\n",
            "+--------------------+--------------------+--------------------+--------------------+--------------------+--------------------+--------------------+--------------------+\n",
            "only showing top 3 rows\n",
            "\n"
          ],
          "name": "stdout"
        }
      ]
    },
    {
      "cell_type": "code",
      "metadata": {
        "id": "Wy76sZ8gOlEN",
        "colab_type": "code",
        "colab": {}
      },
      "source": [
        ""
      ],
      "execution_count": null,
      "outputs": []
    },
    {
      "cell_type": "markdown",
      "metadata": {
        "id": "64jFx-AwOrLg",
        "colab_type": "text"
      },
      "source": [
        "# Test set Evaluation"
      ]
    },
    {
      "cell_type": "code",
      "metadata": {
        "id": "sojNeCEOOtK1",
        "colab_type": "code",
        "colab": {
          "base_uri": "https://localhost:8080/",
          "height": 459
        },
        "outputId": "7a61c515-976e-4ad3-b60e-5136b39b2893"
      },
      "source": [
        "import pyspark.sql.functions as F\n",
        "\n",
        "predictions.select(F.explode(F.arrays_zip('token.result','label.result','ner.result')).alias(\"cols\")) \\\n",
        ".select(F.expr(\"cols['0']\").alias(\"token\"),\n",
        "        F.expr(\"cols['1']\").alias(\"ground_truth\"),\n",
        "        F.expr(\"cols['2']\").alias(\"prediction\")).show(truncate=False)"
      ],
      "execution_count": 36,
      "outputs": [
        {
          "output_type": "stream",
          "text": [
            "+-----------+------------+----------+\n",
            "|token      |ground_truth|prediction|\n",
            "+-----------+------------+----------+\n",
            "|%-|]       |O           |O         |\n",
            "|'          |O           |O         |\n",
            "|Sind       |O           |O         |\n",
            "|Sie        |O           |O         |\n",
            "|sicher     |O           |O         |\n",
            "|,          |O           |O         |\n",
            "|mit        |O           |O         |\n",
            "|einem      |O           |O         |\n",
            "|behinderten|O           |O         |\n",
            "|Kind       |B-PERSON    |B-PERSON  |\n",
            "|klar       |O           |O         |\n",
            "|zu         |O           |O         |\n",
            "|kommen     |O           |O         |\n",
            "|?          |O           |O         |\n",
            "|Sie        |O           |O         |\n",
            "|müssen     |O           |O         |\n",
            "|auch       |O           |O         |\n",
            "|an         |O           |O         |\n",
            "|Ihre       |O           |O         |\n",
            "|anderen    |O           |O         |\n",
            "+-----------+------------+----------+\n",
            "only showing top 20 rows\n",
            "\n"
          ],
          "name": "stdout"
        }
      ]
    },
    {
      "cell_type": "code",
      "metadata": {
        "id": "alR1mv5uOutf",
        "colab_type": "code",
        "colab": {
          "base_uri": "https://localhost:8080/",
          "height": 768
        },
        "outputId": "656ce986-ddaa-4736-9d60-21886f9df0dd"
      },
      "source": [
        "from sklearn.metrics import classification_report\n",
        "\n",
        "preds_df = predictions.select(F.explode(F.arrays_zip('token.result','label.result','ner.result')).alias(\"cols\")) \\\n",
        ".select(F.expr(\"cols['0']\").alias(\"token\"),\n",
        "        F.expr(\"cols['1']\").alias(\"ground_truth\"),\n",
        "        F.expr(\"cols['2']\").alias(\"prediction\")).toPandas()\n",
        "\n",
        "\n",
        "print (classification_report(preds_df['ground_truth'], preds_df['prediction']))"
      ],
      "execution_count": 37,
      "outputs": [
        {
          "output_type": "stream",
          "text": [
            "/usr/local/lib/python3.6/dist-packages/sklearn/metrics/_classification.py:1272: UndefinedMetricWarning: Precision and F-score are ill-defined and being set to 0.0 in labels with no predicted samples. Use `zero_division` parameter to control this behavior.\n",
            "  _warn_prf(average, modifier, msg_start, len(result))\n"
          ],
          "name": "stderr"
        },
        {
          "output_type": "stream",
          "text": [
            "                         precision    recall  f1-score   support\n",
            "\n",
            " B-BIOLOGICAL_CHEMISTRY       0.75      0.72      0.73       395\n",
            " B-BIOLOGICAL_PARAMETER       0.76      0.47      0.58       284\n",
            "           B-BODY_FLUID       0.91      0.88      0.89       372\n",
            "            B-BODY_PART       0.91      0.85      0.88      1453\n",
            "               B-DEGREE       0.00      0.00      0.00         1\n",
            "    B-DIAGLAB_PROCEDURE       0.76      0.70      0.73       532\n",
            "               B-DOSING       0.85      0.32      0.46       110\n",
            "  B-LOCAL_SPECIFICATION       0.83      0.80      0.82       176\n",
            "          B-MEASUREMENT       0.71      0.71      0.71      1245\n",
            "    B-MEDICAL_CONDITION       0.84      0.80      0.82      3913\n",
            "       B-MEDICAL_DEVICE       0.92      0.26      0.41       168\n",
            "B-MEDICAL_SPECIFICATION       0.62      0.33      0.43        80\n",
            "           B-MEDICATION       0.73      0.63      0.68       966\n",
            "               B-PERSON       0.90      0.79      0.85      1163\n",
            "              B-PROCESS       0.84      0.62      0.71       603\n",
            "      B-STATE_OF_HEALTH       0.89      0.75      0.82       796\n",
            "     B-TIME_INFORMATION       0.78      0.85      0.82      1364\n",
            "            B-TREATMENT       0.81      0.63      0.71      1137\n",
            " I-BIOLOGICAL_CHEMISTRY       1.00      0.12      0.22        16\n",
            " I-BIOLOGICAL_PARAMETER       1.00      0.11      0.20        18\n",
            "            I-BODY_PART       0.00      0.00      0.00         8\n",
            "    I-DIAGLAB_PROCEDURE       0.00      0.00      0.00        12\n",
            "               I-DOSING       0.66      0.23      0.34       110\n",
            "  I-LOCAL_SPECIFICATION       0.36      0.43      0.39        21\n",
            "          I-MEASUREMENT       0.52      0.65      0.58       508\n",
            "    I-MEDICAL_CONDITION       0.56      0.17      0.27       207\n",
            "       I-MEDICAL_DEVICE       0.00      0.00      0.00        13\n",
            "I-MEDICAL_SPECIFICATION       0.00      0.00      0.00         6\n",
            "           I-MEDICATION       0.40      0.22      0.29        94\n",
            "               I-PERSON       0.00      0.00      0.00        83\n",
            "      I-STATE_OF_HEALTH       0.85      0.28      0.42       120\n",
            "     I-TIME_INFORMATION       0.82      0.87      0.85      1851\n",
            "            I-TREATMENT       0.90      0.11      0.19        83\n",
            "                      O       0.97      0.99      0.98     97281\n",
            "\n",
            "               accuracy                           0.95    115189\n",
            "              macro avg       0.64      0.45      0.49    115189\n",
            "           weighted avg       0.94      0.95      0.94    115189\n",
            "\n"
          ],
          "name": "stdout"
        }
      ]
    },
    {
      "cell_type": "code",
      "metadata": {
        "id": "88T18atRQw2M",
        "colab_type": "code",
        "colab": {}
      },
      "source": [
        ""
      ],
      "execution_count": null,
      "outputs": []
    },
    {
      "cell_type": "markdown",
      "metadata": {
        "id": "_cSQq-Q1SS4g",
        "colab_type": "text"
      },
      "source": [
        "# save trained model"
      ]
    },
    {
      "cell_type": "code",
      "metadata": {
        "id": "ouQApFUvSUbG",
        "colab_type": "code",
        "colab": {
          "base_uri": "https://localhost:8080/",
          "height": 34
        },
        "outputId": "4370c2e2-d7cb-44d1-9cf3-d4373deb163c"
      },
      "source": [
        "ner_model.stages"
      ],
      "execution_count": 19,
      "outputs": [
        {
          "output_type": "execute_result",
          "data": {
            "text/plain": [
              "[WORD_EMBEDDINGS_MODEL_6ea4c46e28d6, NerDLModel_a48125f8dbc4]"
            ]
          },
          "metadata": {
            "tags": []
          },
          "execution_count": 19
        }
      ]
    },
    {
      "cell_type": "code",
      "metadata": {
        "id": "B3zLjqyESVIf",
        "colab_type": "code",
        "colab": {}
      },
      "source": [
        "ner_model.stages[1].write().overwrite().save('NER_ccde300_20200914_de')"
      ],
      "execution_count": 20,
      "outputs": []
    },
    {
      "cell_type": "code",
      "metadata": {
        "id": "rqVoW8ZaSpcN",
        "colab_type": "code",
        "colab": {
          "base_uri": "https://localhost:8080/",
          "height": 119
        },
        "outputId": "8f0bc8e8-1767-4837-8da7-3b2e70cb5d43"
      },
      "source": [
        "\n",
        "!ls -lt"
      ],
      "execution_count": 21,
      "outputs": [
        {
          "output_type": "stream",
          "text": [
            "total 4423340\n",
            "drwxr-xr-x 4 root root       4096 Sep 14 11:05 NER_ccde300_20200914_de\n",
            "drwxr-xr-x 2 root root       4096 Sep 14 10:21 ner_logs\n",
            "-rw-r--r-- 1 root root    7012058 Sep 14 10:08 project_german_med_api_0906.conll\n",
            "drwxr-xr-x 1 root root       4096 Aug 27 16:39 sample_data\n",
            "-rw-r--r-- 1 root root 4522468726 Jan 18  2019 cc.de.300.vec\n"
          ],
          "name": "stdout"
        }
      ]
    },
    {
      "cell_type": "code",
      "metadata": {
        "id": "q3go1fR_Vfoo",
        "colab_type": "code",
        "colab": {}
      },
      "source": [
        ""
      ],
      "execution_count": null,
      "outputs": []
    },
    {
      "cell_type": "markdown",
      "metadata": {
        "id": "aUrbitLrcPNL",
        "colab_type": "text"
      },
      "source": [
        "# Prediction Pipeline"
      ]
    },
    {
      "cell_type": "code",
      "metadata": {
        "id": "Me04_jfTcRxP",
        "colab_type": "code",
        "colab": {}
      },
      "source": [
        "document = DocumentAssembler()\\\n",
        "    .setInputCol(\"text\")\\\n",
        "    .setOutputCol(\"document\")\n",
        "\n",
        "sentence = SentenceDetector()\\\n",
        "    .setInputCols(['document'])\\\n",
        "    .setOutputCol('sentence')\n",
        "\n",
        "token = Tokenizer()\\\n",
        "    .setInputCols(['sentence'])\\\n",
        "    .setOutputCol('token')\n",
        "\n",
        "word_embeddings = WordEmbeddings()\\\n",
        "  .setInputCols([\"document\", \"token\"])\\\n",
        "  .setOutputCol(\"embeddings\")\\\n",
        "  .setStoragePath('cc.de.300.vec', \"TEXT\")\\\n",
        "  .setDimension(300)\n",
        "    \n",
        "loaded_ner_model = NerDLModel.load(\"NER_ccde300_20200914_de\")\\\n",
        " .setInputCols([\"sentence\", \"token\", \"embeddings\"])\\\n",
        " .setOutputCol(\"ner\")\n",
        "\n",
        "converter = NerConverter()\\\n",
        "  .setInputCols([\"document\", \"token\", \"ner\"])\\\n",
        "  .setOutputCol(\"ner_span\")\n",
        "\n",
        "ner_prediction_pipeline = Pipeline(\n",
        "    stages = [\n",
        "        document,\n",
        "        sentence,\n",
        "        token,\n",
        "        word_embeddings,\n",
        "        loaded_ner_model,\n",
        "        converter])"
      ],
      "execution_count": null,
      "outputs": []
    },
    {
      "cell_type": "code",
      "metadata": {
        "id": "HuzShzh9cloT",
        "colab_type": "code",
        "colab": {}
      },
      "source": [
        "empty_data = spark.createDataFrame([['']]).toDF(\"text\")\n",
        "\n",
        "prediction_model = ner_prediction_pipeline.fit(empty_data)"
      ],
      "execution_count": null,
      "outputs": []
    },
    {
      "cell_type": "code",
      "metadata": {
        "id": "2GlpwP1mcmHw",
        "colab_type": "code",
        "colab": {}
      },
      "source": [
        "\n",
        "preds = prediction_model.transform(sample_data)\n",
        "\n",
        "preds.select(F.explode(F.arrays_zip(\"ner_span.result\",\"ner_span.metadata\")).alias(\"entities\")) \\\n",
        ".select(F.expr(\"entities['0']\").alias(\"chunk\"),\n",
        "        F.expr(\"entities['1'].entity\").alias(\"entity\")).show(truncate=False)"
      ],
      "execution_count": null,
      "outputs": []
    },
    {
      "cell_type": "code",
      "metadata": {
        "id": "0gm_Ri1yctca",
        "colab_type": "code",
        "colab": {}
      },
      "source": [
        "from sparknlp.base import LightPipeline\n",
        "\n",
        "light_model = LightPipeline(prediction_model)"
      ],
      "execution_count": null,
      "outputs": []
    },
    {
      "cell_type": "code",
      "metadata": {
        "id": "VaOQCzGicwL1",
        "colab_type": "code",
        "colab": {}
      },
      "source": [
        "text = \"Peter Parker is a nice guy and lives in New York.\"\n",
        "\n",
        "result = light_model.annotate(text)\n",
        "\n",
        "list(zip(result['token'], result['ner']))"
      ],
      "execution_count": null,
      "outputs": []
    },
    {
      "cell_type": "code",
      "metadata": {
        "id": "IMMog80Ycy-Z",
        "colab_type": "code",
        "colab": {}
      },
      "source": [
        "import pandas as pd\n",
        "\n",
        "result = light_model.fullAnnotate(text)\n",
        "\n",
        "ner_df= pd.DataFrame([(int(x.metadata['sentence']), x.result, x.begin, x.end, y.result) for x,y in zip(result[0][\"token\"], result[0][\"ner\"])], \n",
        "                      columns=['sent_id','token','start','end','ner'])\n",
        "ner_df"
      ],
      "execution_count": null,
      "outputs": []
    }
  ]
}